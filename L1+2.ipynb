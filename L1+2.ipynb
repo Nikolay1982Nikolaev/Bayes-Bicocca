{
  "nbformat": 4,
  "nbformat_minor": 0,
  "metadata": {
    "colab": {
      "provenance": [],
      "authorship_tag": "ABX9TyNs+DAO4tmN5Swomwnu7MYb",
      "include_colab_link": true
    },
    "kernelspec": {
      "name": "python3",
      "display_name": "Python 3"
    },
    "language_info": {
      "name": "python"
    }
  },
  "cells": [
    {
      "cell_type": "markdown",
      "metadata": {
        "id": "view-in-github",
        "colab_type": "text"
      },
      "source": [
        "<a href=\"https://colab.research.google.com/github/Nikolay1982Nikolaev/Bayes-Bicocca/blob/main/L1%2B2.ipynb\" target=\"_parent\"><img src=\"https://colab.research.google.com/assets/colab-badge.svg\" alt=\"Open In Colab\"/></a>"
      ]
    },
    {
      "cell_type": "markdown",
      "source": [
        "# Introdzione:\n",
        "\n",
        "Le tre componenti dell'inferenza Bayesiano sono:\n",
        "\n",
        "- La probabilita Prior:\n",
        "- Vienne specificata la distribuzione a **prori** per i parametri del modello. $p(\\theta)$. E la distribuzione ipotizzata per il parametro secondo le conoscenze sul fenomeno di studio che sono disponibili prima di effettuare una rilevazione ulteriore ovvero di disporre di dati frutto di un campione casuale o di rilevazione sull'intera popolazione oggetto di studio.\n",
        "- e' la funzione di denita/probabilita del vettore dei parametri che dipende(e' condizonata) dall'informazione iniziale (H) - prior $p(\\theta|H)$\n",
        "- nel contesto sperimentale o osservazionale spesso si fanno ipotesi o congetture sul valore del parametro e queste permettono di stabilire una specifica forma funzionale per la distribuzione a pior. A volte formulata in base alle informazioni ricavate da studi precedente e consolidate nella pratica del campo applicativo. Le informazioni a priori si integrano con quelle fornite dai dati e' inferenza si basa sulla distribuzioone a posteriroi.\n",
        "\n",
        "- $\\theta$ non e' una variabile casuale ma e' posto in relazione alla popolazione da cui vengono generati i dati attraverso il concetto di campionamento ripetuto.\n",
        "\n",
        "\n",
        "- Verosimiglianza:\n",
        "Viene specificata la **funzione di verosimiglianza** per i dati in base al modelo postulato. $L(\\theta)= \\pod_{i=1}^n p(y_i|\\theta)$. In base ai dati osservati va considerata la funzione di verosimiglianza che rappresenta il supporto che i nuovi dati forniscono al parametro.\n",
        "\n",
        "- la probabilita a posteriori\n",
        "Si determina la **distribuzione a posteriori** in base alla distribuzione a priori e alla verosimiglianza. Quale sintetizza l'informazione a priori e qualla fornita dal supporto dei dati osservati (verosimiglianza).\n",
        "\n",
        "Quando non e' possibile ottenere la distribuzione a posteriori in modo analitico, si simulano le distribuzioni a posteriori per ogni parametro del modello utilizzando i metodi di ricampionamento Marcov Chain Monte Carlo\n",
        "\n",
        "## Regola di Bayes:\n",
        "\n",
        "$$p(\\theta|y)= \\frac{p(\\theta). \\prod_{i=1}^n p(y_i|\\theta)}{\\int_{\\Theta}. p(\\theta). \\prod_{i=1}^n p(y_i|\\theta) d\\theta }$$\n",
        "- ipotizzando $\\theta \\in Theta$ in R, dove a denominatore c'e la **distribuzione marginale** dei dati ottenuta integrando rispetto al parametro.\n",
        "\n",
        "In sintesi:\n",
        "$$Distribuzione a posteriori= \\frac{Verosimiglianza * Distribuzione a priori}{Distribuzione marginale}$$\n",
        "\n",
        "La cui approssimazione e':\n",
        "\n",
        "$$Distribuzione a posteriori \\propto Verosimiglianza * Distribuzione apriori$$\n",
        "\n",
        "- $\\propto$ - proporzionale. Quest'approssimazione viene utilizzata per evitare di svolgere l'integrale al denominatore.\n",
        "\n"
      ],
      "metadata": {
        "id": "YQLrwjzcOnC2"
      }
    },
    {
      "cell_type": "markdown",
      "source": [
        "**La probabilita congiunta** puo essere espressa in base alla *regola moltiplicativa* come prodotto della probabilita marginale di uno dei due eventi e della probabilita condizionata dell'altro evento:\n",
        "\n",
        "$$P(A \\cap B)= P (A|B)P(B)= P(B|A)P(A)$$\n",
        "\n",
        "se $P(B)> 0$ e $P(A)>0$. La probabilita e':\n",
        "$$P(A|B)= \\frac{P(A \\cap B)}{P(B)}$$\n",
        "- $P(A \\cap B)= P(A, B)$- prod dell'evento congiunto A e B.\n",
        "\n",
        "Eventi *stocasticamente indipendenti*\n",
        "$$P(A \\cap B)= P(A)P(B)$$\n",
        "\n",
        "$$P(A|B)P(B)= P(A \\cap B)$$\n",
        "$$P(B|A)P(A)= P(B \\cap A)$$\n",
        "\n",
        "La **regola Bayesiana** definita in termini di due eventi A e B in un certo spazio compionario P(A) > 0\n",
        "\n",
        "\n",
        "$$P(B|A) = \\frac{P(A|B)P(B) }{P(A|B)P(B + P(A|B^c)P(B^c)  }$$\n",
        "\n",
        "- la prob condizionata e; uguale alla prob.condizionata dell'evento A dato B moltiplicato per la probabilita marignale dell'evento B e divisa per la probabilita marginale dell'evento A.\n",
        "\n",
        "\n",
        "Viene Impiegata Regola per determinare la distribuzione a posteriori del parametro $\\theta$\n",
        "\n",
        "\n",
        "\n"
      ],
      "metadata": {
        "id": "9QVxukmqOnFo"
      }
    },
    {
      "cell_type": "markdown",
      "source": [
        "**Proababilita complessiva**\n",
        "- sia $A_1...A_n$ una partizione dello spazio S.\n",
        "- $A_i$ sono eventi disgiunti e la sua unione produce S\n",
        "- $P(A_i) > 0$\n",
        "\n",
        "$$P(B)= \\sum_{i=1}^n P(B|A_i)P(A_i)$$\n",
        "- scomposizione in somme di prodotti tra la probabilita di ogni $A_i$ (a priori) e la probabilita condizionata dell'evento B ento ogni $A_i$\n",
        "\n",
        "In base a questa regola la probabilita marginale puo essere ricostruita attraverso una somma peata delle probabilita doncizionate dell'evento in oggetto rispetto alla probabilita a priori di un altro evento A quando lo spazio puo essere suddivizo in n parti disgiune.\n",
        "\n"
      ],
      "metadata": {
        "id": "8fqEjg7iOnIP"
      }
    },
    {
      "cell_type": "markdown",
      "source": [
        "Generalizzazione della regola Bayesiana - considerando un evento E supposto associato con A e B tale che $P(A \\cap E) > 0$ e $P(B \\cap E)> 0$\n",
        "\n",
        "La distribuzione congiunta delle variabili casuali definisce le caratteristiche del processo stocastico.\n",
        "\n",
        "$$P(A|B, E)= \\frac{P(B|A, E)P(A|E)}{P(B|E)}$$\n",
        "\n",
        "applicando la regola della probabilita complessiva\n",
        "$$P(B|E)= \\sum_{i=1}^n P(B|A_i, E)P(A_i|E)$$\n",
        "\n"
      ],
      "metadata": {
        "id": "KPhPHAz-OnKj"
      }
    },
    {
      "cell_type": "markdown",
      "source": [
        "Nell Inferenza Bayesiana non si valuta la variabilita di $\\hat{\\theta}$ con il campionamento ripetutto piuttosto si tenta di rispondere alla domanda: Cosa sevo supporre circa la distribuzione di $\\theta$ alla luce delle conoscenze attuali e dei dati osservati?\n",
        "\n"
      ],
      "metadata": {
        "id": "587tDhgGOnPK"
      }
    },
    {
      "cell_type": "markdown",
      "source": [
        "Disponendo di dati $x= (x_1...x_n)$ considerate come realizzazioni dalle variabili casuali $X= (X_1...X_n)$ la probabilita a priori viene aggiornata in base alla *verosimiglianza* del modello statistico assunto per i dati e la distribuzione a priori viene aggiornata con con la distribuzione a posteriroi.\n",
        "\n",
        "$$p(\\theta|X, H)= \\frac{p(\\theta, X|H)}{P(X|H)}= \\frac{p(X|\\theta, H)p(\\theta|H)}{p(X|H)}$$\n",
        "- dove $p(X|H)= \\int_{\\theta}p(\\theta, X)|Hd\\theta$ quando $\\theta$ ha un supporto $\\in R$\n",
        "\n",
        "\n",
        "Media Posteriori:\n",
        "$$E[\\theta, x_1..x_n]= \\int \\theta.p(\\theta|x_1...x_n)d\\theta$$\n",
        "\n",
        "Distribuzione cumulativa:\n",
        "$$P(\\theta <a|x_1...x_n)= \\int I(\\theta)p(\\theta|x_1...x_n)d\\theta$$\n",
        "\n",
        "I = 1 se $\\theta < a$ altrimenti 0\n",
        "\n"
      ],
      "metadata": {
        "id": "u2tKzGSxOnT7"
      }
    },
    {
      "cell_type": "markdown",
      "source": [
        "## Distribuzione predittiva:\n",
        "considerando la distribuzione a posteriori.\n",
        "- conoscendo $x_1..x_n$\n",
        "- prevedere $x_{n+1}^*$\n",
        "\n",
        "$$p(x_{n+1}^*|x_1...x_n)= \\frac{p(x_1....x_n, x_{n+1})}{p(x_1...x_n)}$$\n",
        "\n",
        "$$p(x_{n+1}^*|x)= \\int p(x_{n+1}^*|\\theta, x)p(\\theta|x)d\\theta$$ - risolvibile solo per famiglie coniugate\n",
        "\n",
        "\n",
        "ANche:\n",
        "$$p(x_{n+1}^*|x)= E[p(x_{n+1}^*, \\theta)|x]$$\n",
        "\n",
        "ovvero dipende dai dati osservati, cio che si osserva $x_1...x_n$ permette di ricavare informazioni sul parametro e questo a sua volta fornisce informazioni per prevedere il valore della risposta alla realizzazone successiva $x_{n+1}^*$\n",
        "\n",
        "\n"
      ],
      "metadata": {
        "id": "0QP-qAcdOnY5"
      }
    },
    {
      "cell_type": "markdown",
      "source": [
        "Nel Inferenza Bayesiana il parametro e' visto come una variabile casuale e si assegna anche al parametro una distribuzione di densita o di probabilita.\n",
        "\n",
        "Si"
      ],
      "metadata": {
        "id": "36DiuQDaOnbf"
      }
    },
    {
      "cell_type": "markdown",
      "source": [
        "$$p(\\theta|x)= \\frac{p(x|\\theta)p(\\theta)}{p(x)}$$\n",
        "- dove $p(x)= \\int_{\\theta} p(x|\\theta)p(\\theta)d\\theta$ con $\\theta$ con supporto continuo\n",
        "\n",
        "$$p(\\theta|x)\\propto l(\\theta, x)p(\\theta)$$\n",
        "\n",
        "Il risultato deve essere aggiustato calcolando la constante di normalizzazione k per far si che $p(\\theta|x)$ sia funzione di densita/probabilita\n",
        "\n",
        "\n",
        "$$p(\\theta|x)\\propto k. l(\\theta, x)p(\\theta)$$\n",
        "\n",
        "con il vincolo affinche sia una funzione di densita\n",
        "\n",
        "$$1= \\int_{\\theta} k.l(\\theta, x)p(\\theta)d\\theta$$\n",
        "\n",
        "$$\\frac{1}{k}= E_{\\theta}[l(\\theta, x)]$$\n",
        "- valore atteso rappresenta la *distribuzione predittiva* di X\n",
        "\n"
      ],
      "metadata": {
        "id": "7SgRmSvEOndz"
      }
    },
    {
      "cell_type": "markdown",
      "source": [
        "L'adeguatezza del modello statistico, ovvero una valutazione che permetta di quantificare la validita , si verifica anche considerando la distribuzione predittiva e confrontanto i valori realizzati rispetto quelli previsit.\n"
      ],
      "metadata": {
        "id": "Tbgusf_DOngi"
      }
    },
    {
      "cell_type": "markdown",
      "source": [
        "## Ragionamento sequenziale\n",
        "\n",
        "- $x_1=(x_{11}...x_{1n})$\n",
        "\n",
        "$$p(\\theta|x_1) \\propto l_1(\\theta, x_1)p(\\\\theta)$$\n",
        "\n",
        "- $x_2 = (x_{21}...x_{2n})$\n",
        "\n",
        "$$P(\\theta|x_1,x_2) \\propto l_2(\\theta, x_2)p(\\theta|x_1)\\propto l_1(\\theta, x_1) l_2(\\theta, x_2)p(\\theta)$$\n",
        "\n",
        "Generalizzando:\n",
        "\n",
        "$$p(\\theta|x_nm x_{n-1}...x_1) \\propto \\prod_{i=1}^n l_i(\\theta, x_i)p(\\theta)$$\n",
        "\n",
        "la densita a posteriori e' defginita rispetto al prodotto delle rispettive verosigmilinze e delle deistribuzione a priori.\n",
        "\n"
      ],
      "metadata": {
        "id": "n_IfYoxhOni1"
      }
    },
    {
      "cell_type": "markdown",
      "source": [],
      "metadata": {
        "id": "ZjUun6yuOnlL"
      }
    },
    {
      "cell_type": "markdown",
      "source": [],
      "metadata": {
        "id": "CUlyZGZPOnoB"
      }
    },
    {
      "cell_type": "markdown",
      "source": [],
      "metadata": {
        "id": "zVJWfqZwOnqQ"
      }
    },
    {
      "cell_type": "markdown",
      "source": [],
      "metadata": {
        "id": "Bo4JLeRTOnsp"
      }
    },
    {
      "cell_type": "markdown",
      "source": [],
      "metadata": {
        "id": "eZ8-tjgVOnvd"
      }
    }
  ]
}
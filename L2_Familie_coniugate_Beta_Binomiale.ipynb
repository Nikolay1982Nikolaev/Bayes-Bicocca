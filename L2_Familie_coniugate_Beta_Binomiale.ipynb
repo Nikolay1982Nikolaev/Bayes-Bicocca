{
  "nbformat": 4,
  "nbformat_minor": 0,
  "metadata": {
    "colab": {
      "provenance": [],
      "authorship_tag": "ABX9TyPaAbN9oV2pgWmos8nsVm66",
      "include_colab_link": true
    },
    "kernelspec": {
      "name": "python3",
      "display_name": "Python 3"
    },
    "language_info": {
      "name": "python"
    }
  },
  "cells": [
    {
      "cell_type": "markdown",
      "metadata": {
        "id": "view-in-github",
        "colab_type": "text"
      },
      "source": [
        "<a href=\"https://colab.research.google.com/github/Nikolay1982Nikolaev/Bayes-Bicocca/blob/main/L2_Familie_coniugate_Beta_Binomiale.ipynb\" target=\"_parent\"><img src=\"https://colab.research.google.com/assets/colab-badge.svg\" alt=\"Open In Colab\"/></a>"
      ]
    },
    {
      "cell_type": "markdown",
      "source": [
        "MOdelli coniugati - la distribuzione a priori e quella a posteriori aooartengono alla stessa famiglia di densita o probabilita.\n",
        "\n",
        "Si suponge che una densita a prioori appartiene a una cvlasse di densita parametricha F. Allora la densita a priori e' **coniugata** rispetto alla verosimiglianza $p(x|\\theta)$ quando la densita a posteriori e' anche' essa in F.\n",
        "\n"
      ],
      "metadata": {
        "id": "FQAAJxqnbUAu"
      }
    },
    {
      "cell_type": "markdown",
      "source": [
        "# Beta-Binomiale\n",
        "\n",
        "La parametro rappresenta una proporzione delle popolazione, e la distribuzione da assgnare a priori deve avere:\n",
        "- $p(\\theta) > 0$ $\\theta \\in [0,1]$\n",
        "- \\int_0^1$ p(\\theta)d\\theta= 1$\n",
        "\n",
        "Si consideri la proporzione di un certo evento nella popolazione in base a n-osservazioni campionarie indipendenti\n",
        "- nell'ambito dell'inferenza Bayesiana la probabilita di successo $\\theta$ e' caratterizzata da una distribuzine a priori definita in [0,1]\n",
        "\n",
        "Una scelta ragionevole per la prior e' distribuzione $Beta(\\alpha, \\beta)$\n",
        "\n",
        "I parametri della distribuzione a priori sono definiti Iperparametri. La distribuzione e':\n",
        "\n",
        "$$p(\\theta)= \\frac{1}{Beta(\\alpha, \\beta)} \\theta^{\\alpha-1}(1-\\theta)^{\\beta-1}$$\n",
        "- $0 \\leq \\theta \\leq 1$\n",
        "\n",
        "Il modello di riferimento per i conteggi e' quello della distribuzione Binomiale che generalizza la distribuzione di Bernoulli dove ogni singola prova ha probabilita costante di successo $\\theta$\n",
        "\n",
        "COnsiderando delle variabii siano IID il modello statistico e' il seguente\n",
        "\n",
        "$$(X_1...X_n) \\sim Bernoulli (\\theta)$$\n",
        "\n",
        "$$P(X=x|\\Theta=\\theta)= \\theta^x(1-\\theta)^{1-x}$$\n",
        "- $x=0,1$\n",
        "\n",
        "- campione: $x=(x_1...x_n)$\n",
        "\n",
        "$L(\\theta, x)= \\prod_{i=1}^n [\\theta_{x_i}(1-\\theta)^{1-x_i}]= \\theta^k(1-\\theta)^{n-k}$\n",
        "\n",
        "- $k= \\sum_{i=1}^n x_i$ - numero di sucessi\n",
        "\n",
        "La distribuzione Beta e la distribuzione Binomiale sono legate, infatti si puo pensare\n",
        "- $\\alpha$ della Beta come il numero di successi della binomiale a cui si aggiunge uno (k+1)\n",
        "- $\\beta$ della Veta come il numero di insucessi a cui si aggiunge uno (n-k+1)\n",
        "\n",
        "$$Beta(k+1, n-k + 1)$$\n",
        "\n",
        "Applicando la regola di Bayes: anche la posteriori e' una Beta\n",
        "\n",
        "$$p(\\theta|x) \\propto p(\\theta)L(\\theta, x)$$\n",
        "\n",
        "$$p(\\theta|x) \\propto \\theta^{k+\\alpha -1}(1-\\theta)^{n-k+\\beta-1}$$\n",
        "\n",
        "che e' una distribuzione Beta con parametri\n",
        "$$Beta(\\alpha + k; \\beta + n -k)$$\n",
        "\n",
        "La stima Bayesiana:\n",
        "- valore atteso della postirior\n",
        "$$\\frac{k+\\alpha}{n+\\alpha +\\beta}$$\n",
        "- e una media pesata della proporzione campionaria dei successi e della media della distribuzione a priori\n",
        "\n",
        "- Moda: posterirori\n",
        "$$\\frac{k+\\alpha-1}{n+\\alpha+\\beta-2}$$\n",
        "\n",
        "Constante di normalizzazione:\n",
        "$$Beta(\\alpha, \\beta)^{-1}* Beta(\\alpha+k. \\beta+n-k)^{-1}$$\n",
        "\n",
        "La distribuzione a posteriori e' proporzionale al prodoto della verosimiglianza e della prior:\n",
        "$$p(\\theta|x) \\propto \\theta^x(1-\\theta)^{n-x} * \\theta(\\alpha-1)(1-\\theta)^{\\beta-1}= \\theta^{k+\\alpha-1}(1-\\theta)^{n-k+\\beta-1}$$\n",
        "\n",
        "Il modello coniugato e' definito Beta-Binomiale\n",
        "\n"
      ],
      "metadata": {
        "id": "QwoQF60XbUEC"
      }
    },
    {
      "cell_type": "markdown",
      "source": [
        "Media posteriori e' una media pesata tra la media della distribuzione a priori e la proporzione campionaria $\\hat{\\theta}_{ML}= \\frac{k}{n}$- (stima di massima verosimiglianza) ed il peso dipende dalla numerosita campionaria\n",
        "\n",
        "La vrosimiglianza ha piu peso rispetto alla distribuzione a priopri quando il campione e' particolarmente ampio\n",
        "\n",
        "DIsponendo di precise informazioni a priori in relazione ad un numero crescente di ipotetiche ossevazioni preliminari, la media a posteriori si avvicina sempre di piu alla media a priori\n",
        "\n",
        "La Variabilita della posteriro invece possiao osservare che quando la prior e la verosimiglianza sono relativamente simili la dispersione della distribuzione a posteriori sara minore di quella della distribuzione a priori comportando maggiore precisione nella stima del parametro.\n",
        "\n"
      ],
      "metadata": {
        "id": "2L59MKNKbUG9"
      }
    },
    {
      "cell_type": "markdown",
      "source": [
        "Prior di Jeffrey $\\alpha=\\beta=0.5$ il prior rimane invariata se il parametro subisce transformazioni di scala , questa prior e **poco informativa** ovvero conduce a risultati inferenziali abbastanza simili a quelli prodotti dalla stima di massima verosigmilianza\n",
        "\n",
        "Tuttavia questa prior come mostrato nella applicazioni assegna alta probabilita ai valori estremi del parametro\n",
        "\n"
      ],
      "metadata": {
        "id": "K9TnalRxbUJh"
      }
    },
    {
      "cell_type": "markdown",
      "source": [
        "# Famiglie Coniugate:\n",
        "\n",
        "Def: sia $F=p(x|\\theta); \\theta \\in \\Theta$ la famigia di campionamento o di osservazione (modello statistico asunto per i dati), sia P un insieme di distribuzioni. Si dice che P e' una famiglia coniugata rispetto F se per ogni $x \\in F$ e per ogni probabilita a priori $p(\\theta)\\in P$ la distribuzione a posteriori risuilta $p(\\theta|x)\\in P$\n",
        "\n",
        "- Prior: $\\theta \\sim p(\\theta, \\gamma)$\n",
        "- Il modello e' detto coniugato se la posterior: $$p(\\theta, \\gamma_n(x))$$\n",
        "- hanno la stessa struttura analitica della distribuzione a priori con gli iperparametri aggiornati in base ai dati osservati.\n",
        "\n"
      ],
      "metadata": {
        "id": "JUIYCJaRbUMH"
      }
    },
    {
      "cell_type": "markdown",
      "source": [
        "## Scambiabilita:\n",
        "\n",
        "Una condizione necessaria per le applicazioni della regola Bayesiana ed esprime il concetto di realizzazioni ripetute in esperimenti equvalenti\n",
        "\n",
        "Tutte le distribuzioni marginali di ogni possibile permutazione devono essere somiglianti.\n",
        "\n",
        "Def: le variabili aleatorie $X_1...X_n$ si dicono scambialibili se la funzione di ripartizione congiunta di una qualunque permutazione delle componenti coincide con quella delle variabili aleatorie originarie.\n",
        "\n",
        "Teorema di rapresentazione/scambiabilita di Finetti:\n",
        "\n",
        "Siano $X_1...X_n$ una successione infinita di variabili scambiabili che assumono solo due valori con distribuzione di probabilita P. Per ogni intero n si considera la sucessione $S_n= X_1+x_2+...+X_n$. Esiste una funzione di rip[artizione $F(\\theta)$ tale che per ogni n-pla ($x_1..x_n$) questa puo essere rappresentata:\n",
        "$$P(X_1=x_1, X_2=x_2...X_n=x_n)= \\int_0^1 \\prod_{i=1}^n [\\theta^{x_i}(1-\\theta)^{1-x_i}]dF(\\theta)$$\n",
        "\n",
        "$$= \\int_o^1 [\\theta^{S_n}(1-\\theta)^{n-S_n}]dF(\\theta)$$\n",
        "\n",
        "dove $F(\\theta)$ e la funzione di ripartizione limite verso cui converge al crescere di n la funzione di ripartizione associata alla frequenza relativa $S_n/n$\n",
        "\n",
        "$$F(\\theta)= lim_{n->\\infty}(\\frac{S_n}{n}\\leq \\theta)$$\n",
        "\n",
        "$$\\theta = lim_{n->\\infty}\\frac{S_n}{n}$$\n",
        "\n",
        "In base all'ipotesi di scambiabilita le variabili osservabili possono essere considerate indipendenti e somiglianti a $\\theta$\n",
        "\n",
        "In pratica le variabilli casuale $X_1...X_n$ possono essere considerate  indipendenti e somiglianti (aventi stessa distribuzione di probabilita) cosi come le lore coppie , terne, etc.\n",
        "\n",
        "Non e' necesario conoscere la successione di tutti i risultati delle prove , e' sufficiente numero totale dei sucvessi. SI noti che l'elicitazione della prior deve avenire ripetto al comportamento asintotico di $F(\\theta)$\n",
        "\n",
        "Ovvero $f(\\theta)$ puo essere interpretata come espressione delle valutazioni sui valori che puo assumere la freq.relativa limite dei sucessi quando si incremente la numerosita delle osservazioni.\n",
        "\n",
        "\n"
      ],
      "metadata": {
        "id": "SjQ_0y-HbUPD"
      }
    },
    {
      "cell_type": "markdown",
      "source": [],
      "metadata": {
        "id": "-vsaKRPYbUR3"
      }
    },
    {
      "cell_type": "markdown",
      "source": [
        "## Modello Gaussiano\n",
        "\n",
        "Interesati alla MEDIA di una variabile casuale QUantitativa\n",
        "\n",
        "Prior: Gaussiano supponendo nota la varianza della popolazione\n",
        "\n",
        "$$f(\\theta) \\sim N(\\mu, \\tau^2)$$\n",
        "- $\\mu, \\tau$ - iperparametri , noti\n",
        "\n",
        "- la densita  a posteriori e' definita al prodotto della rispettive verosimiglianze e della distribuzione a priori\n",
        "\n",
        "Assumento per il momento di disporre di una sola realizzazione campionaria, si suppone $f(x|\\theta) \\sim N(x, \\sigma^2), \\sigma^2 - noto$\n",
        "\n",
        "La distribuzione a posteriori e' proporzionale al prodotto di due distribuzione Gaussiano\n",
        "$$f(\\theta|x)\\sim N(\\mu_1, \\tau_1)$$\n",
        "\n",
        "$$\\mu_1 = \\frac{\\frac{1}{\\tau^2}}{\\frac{1}{\\sigma^2} + \\frac{1}{\\tau^2}}\\mu + \\frac{\\frac{1}{\\sigma^2}}{\\frac{1}{\\sigma^2} + \\frac{1}{\\tau^2}}.x$$\n",
        "\n",
        "$$\\tau_1^2= \\frac{1}{\\frac{1}{\\sigma^2}+ \\frac{1}{\\tau^2}}$$\n",
        "\n",
        "COnsiderando il valore della distribuzone a posteriori $E[\\theta|x]= \\mu_1$ si dimostra che si puo scrivere anche in funzione di $\\tau_1$\n",
        "$$\\mu_1= (\\sigma^{-2}x + \\mu\\tau^{-2})\\tau_1^2$$\n",
        "\n",
        "Ponendo\n",
        "- $w= \\frac{1}{\\tau^2}$\n",
        "- $z= \\frac{1}{\\sigma^2}$\n",
        "\n",
        "$\\mu_1= \\frac{w\\mu + zx}{w+z}$\n",
        "\n",
        "$\\tau_1^2= \\frac{1}{w+z}$\n",
        "\n",
        "w e z - precisioni: Precisone a posteriori e' data dalla somma della precisione del modello e della precisione della distribuzione a priopri\n",
        "\n",
        "Il valore atteso (o la moda) della distirbuzione e' una media ponderata delle medie della distribuzione a priori e della distribuzione del modello e delle rispettive precisioni\n",
        "\n",
        "La virianza della distribuzone a posteriori e' minore della varianza della distribuzione a priori, piu piccola e' lla variabilita riscontrata nella osservazioni maggiore e' il peso delle osservazioni\n",
        "\n",
        "\n",
        "In modello:\n",
        "- la media a posteriori e' una media pesata rispetto alla distribuzione a priori e alla verosimiglianza\n",
        "- il peso della media a priori sara tanto piu elevato quanto piu bassa la variabilita stabilita da $\\tau^2$ (i valori a priori sono poco variabili). Se la precisione $\\frac{1}{\\sigma^2}$ e' basa (i dati mostrano una variabilita ridotta ) allora il peso delle informazioni campionarie sara rilevante.\n",
        "\n",
        "Nelle applicazioni quando l'iperparametro $\\tau^2$ (varianza a priori) viene specificato con un valore elevato (ovvero quando la precisione a' prossima a zero.) si dice che la prior e' NON INFORMATIVA:\n",
        "\n",
        "La distribuzione a posteriori sintetizza le informazioni disponibili sul parametro derivanti dalle consocenze a priori e della evidenze empiriche, il peso assegnato alla media nella distribuzione iniziale diventa piccolo al crescere della numerosita del campione, perche i dati accrescono la precisione delle stime.\n",
        "\n",
        "Se la grandezza del campione e' rilevante allora la distribuzione a posteriori sara quasi completamente determinata dal risultato sperimentale o osservazionale.\n",
        "\n",
        "Se la varianza della distribuzione iniziale $\\tau^2$ e' ampia , la distribuzione a priori e' poco informativa, infatti non si attribuisca probabilita elevata ad un particolare valore del parametro, e pertanto la media della distribuzione a posteriori e' tale che $\\mu_1 \\sim \\bar{x}$\n",
        "\n",
        "Si si assegna un valore picvcolo all'iperparametro $\\tau^2$ la distribuzione a priori e' informativa e si ritiene che la variabilita del parametro a priori in un certo valore ritenuto maggiormente plausibile sia modesta (ovvero si esprimono a priori delle opinioni sul parametro molto forti.)"
      ],
      "metadata": {
        "id": "OsDiu_iIbUUr"
      }
    },
    {
      "cell_type": "markdown",
      "source": [
        "I parametri posteriori:\n",
        "\n",
        "$\\mu_1 = \\frac{\\mu \\sigma^2 + n\\bar{x}\\tau^2}{n\\tau^2 + \\sigma^2}$\n",
        "\n",
        "$\\tau_1^2 = \\frac{\\tau62\\sigma^2}{n\\tau^2+ \\sigma^2}$\n",
        "\n"
      ],
      "metadata": {
        "id": "Clw3O27VbUYB"
      }
    },
    {
      "cell_type": "markdown",
      "source": [],
      "metadata": {
        "id": "YY3ziEQubUa9"
      }
    },
    {
      "cell_type": "markdown",
      "source": [],
      "metadata": {
        "id": "n5UQHLtrbUdp"
      }
    },
    {
      "cell_type": "markdown",
      "source": [],
      "metadata": {
        "id": "XdRRapzobUgd"
      }
    },
    {
      "cell_type": "markdown",
      "source": [],
      "metadata": {
        "id": "d7-amKSJbUjR"
      }
    },
    {
      "cell_type": "markdown",
      "source": [],
      "metadata": {
        "id": "JCRLdeFObUmL"
      }
    },
    {
      "cell_type": "markdown",
      "source": [],
      "metadata": {
        "id": "_tEKaTs-bUo8"
      }
    },
    {
      "cell_type": "markdown",
      "source": [],
      "metadata": {
        "id": "oXdht_0DbUrn"
      }
    },
    {
      "cell_type": "markdown",
      "source": [],
      "metadata": {
        "id": "GRSmwyJebUut"
      }
    },
    {
      "cell_type": "markdown",
      "source": [],
      "metadata": {
        "id": "11Ayp44pbUxZ"
      }
    },
    {
      "cell_type": "markdown",
      "source": [],
      "metadata": {
        "id": "hupaCoFcbU0F"
      }
    }
  ]
}
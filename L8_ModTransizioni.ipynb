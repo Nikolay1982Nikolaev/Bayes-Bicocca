{
  "nbformat": 4,
  "nbformat_minor": 0,
  "metadata": {
    "colab": {
      "provenance": [],
      "mount_file_id": "1XiuzOgMQp-U34mKCPgWEq3bBGMY9HjwR",
      "authorship_tag": "ABX9TyOBJv79w9b+pzKDcHTaNoPV",
      "include_colab_link": true
    },
    "kernelspec": {
      "name": "ir",
      "display_name": "R"
    },
    "language_info": {
      "name": "R"
    }
  },
  "cells": [
    {
      "cell_type": "markdown",
      "metadata": {
        "id": "view-in-github",
        "colab_type": "text"
      },
      "source": [
        "<a href=\"https://colab.research.google.com/github/Nikolay1982Nikolaev/Bayes-Bicocca/blob/main/L8_ModTransizioni.ipynb\" target=\"_parent\"><img src=\"https://colab.research.google.com/assets/colab-badge.svg\" alt=\"Open In Colab\"/></a>"
      ]
    },
    {
      "cell_type": "markdown",
      "source": [
        "Per un processo stocastico con spazio degli stati finito la proprieta di ricorrenza della catena di Markov permette di soddisfare le proprieta asintotiche utili per determinare la distribuzione di equlibrio\n",
        "\n",
        "Nel caso in cui lo spazio degli stati e' illimitatamente continuo occore che la catena Markov soddisfi la **riccorenza secondo la definizione di Harris** in modo che la probabilita di visita di un certo sottoinsieme A infinite volte sia pari a uno.\n",
        "\n",
        "Qando il processo raggiunge la distribuzione stazionaria, si dice che il processo e' per **sempre in equlibrio** o oscilla nel sottospazio definito dalla distriuzione marginale del processo.\n",
        "\n",
        "La proprieta di RICIRENZA permette di definire delle restizioni in modo tale da essere certi che gli stati al limite possono essere visitati infinite volte\n",
        "\n",
        "La stazionarieta permette di assegnare una componente costante alla struttura probabilistica della catena definisce le posizione del processo, ed assicura che la struttura probabilistica rimanga costante\n",
        "\n",
        "Il periodo della catena e' la lungheza di tempo che il proceso richiede per ripetere lo stesso ciclo di realizzazioni\n",
        "\n",
        "Una catena di Marakov e' ERGODICA quando il tempo medio di visita di uno stato e' uguale alla probabilita di quello stato rispetto ad una densita di interesse\n",
        "\n",
        "La proprieta di ergodicita asicura che se la catena ha raggiunto lo stato ergodico i valori campionati possono essere considerati delle determinazioni della distribuzione di interesse.\n",
        "\n",
        "Se e' possibile costruire una catena di Markov con queste caratteristiche  allora la catena avra un unica distribuzione limite che e' la distribuzione di equlibrio ovvero proprio la densita a posteriori che interessa simulare\n",
        "\n",
        "Gli algoritmi che veranno introdotti denominati MH e Gibs sample permettono di avere un kernel di transizione che ammette uan distribuzione sstazionaria $p(\\theta|x)$\n",
        "\n",
        "La technica risultante dall'utilizzo di un processo stocastico Markoviano e' definita MCMC e prevede si campionamento da una catena di Markov che ha una distribuzione stazionaria che coincide con la densita da integrare\n",
        "\n"
      ],
      "metadata": {
        "id": "MmeSvdUNvx0u"
      }
    },
    {
      "cell_type": "markdown",
      "source": [],
      "metadata": {
        "id": "I1dbEelmvx3K"
      }
    },
    {
      "cell_type": "markdown",
      "source": [
        "## Passeggiata casuale\n",
        "\n",
        "Un processo stocastico e' PC quando il valore assunto dal processo al passo n si pu esprimere:\n",
        "$$X_n = X_{n-1}+ W_n$$\n",
        "\n",
        "$W_n$ variabile casuale d Bernoulli con probabilita p e a valori $\\pm 1$\n",
        "\n",
        "si nota che si tratta di un proceso Markoviano in quanto lo stato del proceso al tempo t dipende dallo stato al tempo t-1\n",
        "\n",
        "Questo speciale processo si caratterizza per il fatto che esiste solo la probabilita di pasaaggio da uno stato a qualle immediatamente adiacente; p e' la probabilita di movimento verso una direzione e 1-p e' quella verso la direzione opposta\n",
        "\n",
        "esempio\n",
        "$$P(X_n=j|X_{n-1}=j+1)= p$$\n",
        "$$P(X_n= j|X_{n-1}=j-1) 1-p$$\n",
        "\n",
        "Fissando uno stato iniziale o di partenza $X_0$ della passegiata il processo si scrive anche nel seguente modo\n",
        "\n",
        "$$X_n= X_0 + \\sum_{i=1}^{n-1} W_i$$\n",
        "\n",
        "La matrice di transizione di questo particolare proceso stocastico ha elementi pairi a 0 (non e' persistente) nella diagonale principale ad eccezzione dei stati assorbenti (stati terminali del processo) in quanto non e' mai possibile rimanere nello stesso stato se non quando il processo arriva nello stato terminale\n",
        "\n",
        "Nell'esempio che segue si considera un processo con 6 stati. Il vettore che definisce le probabilita iniziale della catena e' $$\\pi= (0 0 0 1 0 0 )$$\n",
        " in pratica all'inizio della passaggiata il processo si trova nello stato 4\n",
        "\n"
      ],
      "metadata": {
        "id": "3JmtfZqQvyCt"
      }
    },
    {
      "cell_type": "markdown",
      "source": [
        "## Modello di transizione - Markov Chain Transitional model\n",
        "\n",
        "Utilizza le proprieta del processo esposto nel contesto dei dati longitudinali\n",
        "\n",
        "I dati lingitudinali sono relativi ad osservazioni ripetute sulla stessa unita statistica in piu isntati temporanei e riguardano un'insioeme di unita statistiche\n",
        "\n",
        "Nel contempo presentano una struttura più complessa rispetto ad\n",
        "altre tipologie di dati, ad esempio, un’indagine statistica (survey)\n",
        "pianificata su più tempi presenta delle caratteristiche peculiari che\n",
        "riguardano\n",
        "\n",
        "le unità (individui), il periodo temporale (tempi, le rispettive\n",
        "frequenze) e le variabili di interesse (risposta e covariate) che\n",
        "possono variare nel tempo\n",
        "\n",
        "Inoltre non sempre le rilevazioni risultano disponibili per tutti i\n",
        "periodi temporali per ogni unità e questo comporta dei valori\n",
        "mancanti che devono essere trattati in modo opportuno\n",
        "\n",
        "Le seguente variabili $Y^{(1)}...Y^{(T)}$ sono le variabili risposta che rappresentano un processo stocastico Markoviano\n",
        "\n",
        "Ogni Y ha c categorie dette anche categorie di risposta: c=0...c-1\n",
        "\n",
        "In base alle proprietà esposte in precedenza il modello grafico (detto\n",
        "anche grafo direzionato aciclico) è formato da archi che uniscono\n",
        "solo i nodi (le variabili) immediatamente seguenti in senso temporale\n",
        "\n",
        "\n",
        "Path diagram:\n",
        "\n",
        "$$Y^{(1)}--> Y^{(2)}--> ...--> Y^{(T)}$$\n",
        "\n",
        "\n",
        "\n",
        "\n"
      ],
      "metadata": {
        "id": "nGy_UrVbvyFF"
      }
    },
    {
      "cell_type": "markdown",
      "source": [
        "La distribuzione congiunta delle risposte rispetto alle ipotesi di\n",
        "Markovianità del primo ordine ed omogeneità della catena si ricava a\n",
        "partire da un vettore di realizzazioni $y=y_1...y_n$\n",
        "\n",
        "$$f(y)= \\pi_{y^{(1)}}\\Pi_{y^{(t)}|y^{(t-1)}}$$\n",
        "\n",
        "- $\\pi_{y^{(1)}}$ sono le probabilita inziali di ogni stato (categoria)\n",
        "-  $\\Pi_{y^{(t)}|y^{(t-1)}}$ e' la matrice di transizone tra gli stati della catena\n",
        "\n",
        "Nel seguoto le probabilita inizlia: $\\pi_{y^{(1)}}= \\pi_y$\n",
        "- prob di transizione $\\Pi_{y^{(t)}|y^{(t-1)}} = \\pi_{y|\\bar{y}}$"
      ],
      "metadata": {
        "id": "spOL9v_bvyHP"
      }
    },
    {
      "cell_type": "markdown",
      "source": [
        "I parametri nel modello di transizione sono pertanto relativi alle\n",
        "probabilità di ogni stato nel periodo iniziale e di transizione tra stati\n",
        "nei periodi successivi\n",
        "\n",
        "I vincoli imposti su tali parametri sono che la somma delle\n",
        "probabilità iniziali sia pari a 1 e che la matrice di transizione sia una\n",
        "matrice stocastica\n",
        "\n",
        "Il modello presenta un numero di parametri liberi ( np, degrees of\n",
        "freedom) pari alla seguente somma che coinvolge il numero di\n",
        "categorie della variabile risposta c\n",
        "\n",
        "$$np = c-1 + c(c-1)$$\n"
      ],
      "metadata": {
        "id": "oTs7DI52vyJk"
      }
    },
    {
      "cell_type": "markdown",
      "source": [
        "Disponendo di un campione con n unità e considerando le\n",
        "configurazioni di risposta osservate y (dette pattern di risposta) e le rispettive frequenze $n_y$ la funzione di log-verosim si puo scrivere:\n",
        "$$l(\\theta)= \\sum_{y} n_y log(f(y))$$\n",
        "\n",
        "- $\\theta$ - il vettore dei parametri che raccoglie tutti quelli del modelo\n",
        "\n",
        "\n",
        "La verosimiglianza precedente si puo scrivere come somma che\n",
        "coinvolge i rispettivi parametri nel modo seguente\n",
        "\n",
        "$$l(\\theta)= \\sum_{y=0}^{c-1}a_y^{(1)} log \\pi_y + \\sum_{\\bar{y}}^{c-1} \\sum_{y=0}^{c-1} a_{\\bar{y}y} log(\\pi_{y|\\bar{y}})$$\n",
        "\n",
        "- $a_y^{(1)}$ - indica il numero di unita che presentano la modalita y nel periodo iniziale\n",
        "\n",
        "- $a_{\\bar{y}y}$ si indica il numero di unita che presentano la modalita $\\bar{y}$ al tempo t-1 e y al tempo t pertanto che transitano da uno stato ad un altro nel tempo\n",
        "\n",
        "Le soluzioni per l’equazione precedente sono le seguenti\n",
        "$$\\hat{\\pi_y}= \\frac{a_y^{(1)}}{n}$$\n",
        "\n",
        "$$\\hat{\\pi}_{y|\\bar{y}}= \\frac{a_{\\bar{y}y}}{a_{\\bar{y}}}$$\n",
        "\n",
        "- $\\bar{y}, y = 0,....c-1$ sono le stime di massima verosimiglianza\n",
        "dei parametri del modello.\n",
        "\n",
        "La precisione delle stime si determina impiegando gli errori standard\n",
        "che si utilizzano sia per la verifica delle ipotesi sia per la\n",
        "determinazione degli intervalli di confidenza\n",
        "\n"
      ],
      "metadata": {
        "id": "b9PciyBbvyL4"
      }
    },
    {
      "cell_type": "markdown",
      "source": [
        "\n",
        "Gli errori standard si ottengono:\n",
        "- sia imiegando la radice quadrata degli elementi suladiagonale dell'inversa della matrice di informazione e utilizzando il metodo asintotico\n",
        "- oppure dalla matrice d'informazione attesa\n",
        "- oppure impiegato il bootstrap"
      ],
      "metadata": {
        "id": "SBSeMqY0vyWy"
      }
    },
    {
      "cell_type": "code",
      "source": [
        "load(\"/content/drive/MyDrive/00.Last_sprint_UNIVERSITA/02.Bayes/datalong.Rdata\")"
      ],
      "metadata": {
        "id": "ZJ6QvvrOCfI4"
      },
      "execution_count": null,
      "outputs": []
    },
    {
      "cell_type": "code",
      "source": [
        "head(datalong)"
      ],
      "metadata": {
        "colab": {
          "base_uri": "https://localhost:8080/",
          "height": 286
        },
        "id": "Ddt1cM56CgPL",
        "outputId": "de1b949c-b7a4-4aeb-fa22-42e3d4991a42"
      },
      "execution_count": null,
      "outputs": [
        {
          "output_type": "display_data",
          "data": {
            "text/html": [
              "<table class=\"dataframe\">\n",
              "<caption>A data.frame: 6 × 3</caption>\n",
              "<thead>\n",
              "\t<tr><th></th><th scope=col>id</th><th scope=col>time</th><th scope=col>X1</th></tr>\n",
              "\t<tr><th></th><th scope=col>&lt;int&gt;</th><th scope=col>&lt;int&gt;</th><th scope=col>&lt;dbl&gt;</th></tr>\n",
              "</thead>\n",
              "<tbody>\n",
              "\t<tr><th scope=row>1</th><td>1</td><td>1</td><td>1</td></tr>\n",
              "\t<tr><th scope=row>2</th><td>2</td><td>1</td><td>0</td></tr>\n",
              "\t<tr><th scope=row>3</th><td>3</td><td>1</td><td>0</td></tr>\n",
              "\t<tr><th scope=row>4</th><td>4</td><td>1</td><td>1</td></tr>\n",
              "\t<tr><th scope=row>5</th><td>5</td><td>1</td><td>0</td></tr>\n",
              "\t<tr><th scope=row>6</th><td>6</td><td>1</td><td>1</td></tr>\n",
              "</tbody>\n",
              "</table>\n"
            ],
            "text/markdown": "\nA data.frame: 6 × 3\n\n| <!--/--> | id &lt;int&gt; | time &lt;int&gt; | X1 &lt;dbl&gt; |\n|---|---|---|---|\n| 1 | 1 | 1 | 1 |\n| 2 | 2 | 1 | 0 |\n| 3 | 3 | 1 | 0 |\n| 4 | 4 | 1 | 1 |\n| 5 | 5 | 1 | 0 |\n| 6 | 6 | 1 | 1 |\n\n",
            "text/latex": "A data.frame: 6 × 3\n\\begin{tabular}{r|lll}\n  & id & time & X1\\\\\n  & <int> & <int> & <dbl>\\\\\n\\hline\n\t1 & 1 & 1 & 1\\\\\n\t2 & 2 & 1 & 0\\\\\n\t3 & 3 & 1 & 0\\\\\n\t4 & 4 & 1 & 1\\\\\n\t5 & 5 & 1 & 0\\\\\n\t6 & 6 & 1 & 1\\\\\n\\end{tabular}\n",
            "text/plain": [
              "  id time X1\n",
              "1 1  1    1 \n",
              "2 2  1    0 \n",
              "3 3  1    0 \n",
              "4 4  1    1 \n",
              "5 5  1    0 \n",
              "6 6  1    1 "
            ]
          },
          "metadata": {}
        }
      ]
    },
    {
      "cell_type": "code",
      "source": [
        "library(dplyr)\n",
        "\n",
        "# ordinare per colonna\n",
        "dat <- datalong[order(datalong$id),]\n",
        "head(dat)\n"
      ],
      "metadata": {
        "colab": {
          "base_uri": "https://localhost:8080/",
          "height": 286
        },
        "id": "bDl5AJqZDSMD",
        "outputId": "22b3d6fd-373e-465f-e045-90bef6d4e419"
      },
      "execution_count": null,
      "outputs": [
        {
          "output_type": "display_data",
          "data": {
            "text/html": [
              "<table class=\"dataframe\">\n",
              "<caption>A data.frame: 6 × 3</caption>\n",
              "<thead>\n",
              "\t<tr><th></th><th scope=col>id</th><th scope=col>time</th><th scope=col>X1</th></tr>\n",
              "\t<tr><th></th><th scope=col>&lt;int&gt;</th><th scope=col>&lt;int&gt;</th><th scope=col>&lt;dbl&gt;</th></tr>\n",
              "</thead>\n",
              "<tbody>\n",
              "\t<tr><th scope=row>1</th><td>1</td><td>1</td><td>1</td></tr>\n",
              "\t<tr><th scope=row>1001</th><td>1</td><td>2</td><td>0</td></tr>\n",
              "\t<tr><th scope=row>2001</th><td>1</td><td>3</td><td>2</td></tr>\n",
              "\t<tr><th scope=row>3001</th><td>1</td><td>4</td><td>0</td></tr>\n",
              "\t<tr><th scope=row>2</th><td>2</td><td>1</td><td>0</td></tr>\n",
              "\t<tr><th scope=row>1002</th><td>2</td><td>2</td><td>2</td></tr>\n",
              "</tbody>\n",
              "</table>\n"
            ],
            "text/markdown": "\nA data.frame: 6 × 3\n\n| <!--/--> | id &lt;int&gt; | time &lt;int&gt; | X1 &lt;dbl&gt; |\n|---|---|---|---|\n| 1 | 1 | 1 | 1 |\n| 1001 | 1 | 2 | 0 |\n| 2001 | 1 | 3 | 2 |\n| 3001 | 1 | 4 | 0 |\n| 2 | 2 | 1 | 0 |\n| 1002 | 2 | 2 | 2 |\n\n",
            "text/latex": "A data.frame: 6 × 3\n\\begin{tabular}{r|lll}\n  & id & time & X1\\\\\n  & <int> & <int> & <dbl>\\\\\n\\hline\n\t1 & 1 & 1 & 1\\\\\n\t1001 & 1 & 2 & 0\\\\\n\t2001 & 1 & 3 & 2\\\\\n\t3001 & 1 & 4 & 0\\\\\n\t2 & 2 & 1 & 0\\\\\n\t1002 & 2 & 2 & 2\\\\\n\\end{tabular}\n",
            "text/plain": [
              "     id time X1\n",
              "1    1  1    1 \n",
              "1001 1  2    0 \n",
              "2001 1  3    2 \n",
              "3001 1  4    0 \n",
              "2    2  1    0 \n",
              "1002 2  2    2 "
            ]
          },
          "metadata": {}
        }
      ]
    },
    {
      "cell_type": "code",
      "source": [
        "install.packages(\"LMest\")\n",
        "library(LMest)"
      ],
      "metadata": {
        "colab": {
          "base_uri": "https://localhost:8080/"
        },
        "id": "iQeNqmkpDl5k",
        "outputId": "572dfefc-bf7b-41e3-ab60-010c62e7e5d1"
      },
      "execution_count": null,
      "outputs": [
        {
          "output_type": "stream",
          "name": "stderr",
          "text": [
            "Installing package into ‘/usr/local/lib/R/site-library’\n",
            "(as ‘lib’ is unspecified)\n",
            "\n",
            "also installing the dependencies ‘quadprog’, ‘lpSolve’, ‘limSolve’, ‘shape’, ‘MultiLCIRT’, ‘mvtnorm’, ‘Formula’, ‘mix’, ‘diagram’, ‘mclust’, ‘scatterplot3d’\n",
            "\n",
            "\n",
            "Package 'LMest' version 3.1.2\n",
            "\n"
          ]
        }
      ]
    },
    {
      "cell_type": "code",
      "source": [
        "dt <- lmestData(data = datalong,\n",
        "          id = \"id\",\n",
        "          time = \"time\")\n",
        "summary(dt, varType = rep(\"d\",ncol(dt$Y)))\n"
      ],
      "metadata": {
        "colab": {
          "base_uri": "https://localhost:8080/"
        },
        "id": "1GrVJSWJDs1c",
        "outputId": "7ebb83ba-f05a-4ea7-98ca-1d0762437847"
      },
      "execution_count": null,
      "outputs": [
        {
          "output_type": "stream",
          "name": "stdout",
          "text": [
            "\n",
            "Data Info:\n",
            "---------- \n",
            "\n",
            "Observations:        1000 \n",
            "Time occasions:      4 \n",
            "Variables:           1 \n",
            "\n",
            "\n",
            "Proportion:\n",
            "---------- \n",
            "\n",
            " time     dt       \n",
            " 1:1000   0:0.3165 \n",
            " 2:1000   1:0.18225\n",
            " 3:1000   2:0.50125\n",
            " 4:1000            \n",
            "\n",
            "Proportion by year:\n",
            "---------- \n",
            "\n",
            "\n",
            "Time =  1 \n",
            "\n",
            " time     dt     \n",
            " 1:1000   0:0.511\n",
            "          1:0.3  \n",
            "          2:0.189\n",
            "\n",
            "Time =  2 \n",
            "\n",
            " time     dt     \n",
            " 2:1000   0:0.247\n",
            "          1:0.069\n",
            "          2:0.684\n",
            "\n",
            "Time =  3 \n",
            "\n",
            " time     dt     \n",
            " 3:1000   0:0.275\n",
            "          1:0.065\n",
            "          2:0.66 \n",
            "\n",
            "Time =  4 \n",
            "\n",
            " time     dt     \n",
            " 4:1000   0:0.233\n",
            "          1:0.295\n",
            "          2:0.472\n"
          ]
        }
      ]
    },
    {
      "cell_type": "code",
      "source": [
        "# Stimiamo il modello di transizione con la funzione lmestMc\n",
        "out3 <- lmestMc(responsesFormula = X1 ~ NULL,\n",
        "                index = c(\"id\", \"time\"),\n",
        "                data = datalong,\n",
        "                modBasic = 1)\n",
        "\n",
        "\n",
        "# sintesi delle stime\n",
        "print(out3)"
      ],
      "metadata": {
        "colab": {
          "base_uri": "https://localhost:8080/"
        },
        "id": "CRzbvP-7DzQk",
        "outputId": "d1e0fcc4-ba76-4ff8-dada-27d2be5bdd59"
      },
      "execution_count": null,
      "outputs": [
        {
          "output_type": "stream",
          "name": "stdout",
          "text": [
            "\n",
            "Basic Markov chain model\n",
            "Call:\n",
            "lmestMc(responsesFormula = X1 ~ NULL, data = datalong, index = c(\"id\", \n",
            "    \"time\"), modBasic = 1)\n",
            "\n",
            "Available objects:\n",
            " [1] \"lk\"       \"piv\"      \"Pi\"       \"np\"       \"aic\"      \"bic\"     \n",
            " [7] \"Fy\"       \"n\"        \"TT\"       \"modBasic\" \"call\"     \"data\"    \n",
            "\n",
            "Convergence info:\n",
            "     LogLik np      AIC      BIC    n TT\n",
            "  -3694.146  8 7404.292 7443.554 1000  4\n"
          ]
        }
      ]
    },
    {
      "cell_type": "code",
      "source": [
        "summary(out3)"
      ],
      "metadata": {
        "colab": {
          "base_uri": "https://localhost:8080/"
        },
        "id": "HfmZUCfgD-Sq",
        "outputId": "2b421106-ef39-48a9-a59e-91d50c7ee0ac"
      },
      "execution_count": null,
      "outputs": [
        {
          "output_type": "stream",
          "name": "stdout",
          "text": [
            "Call:\n",
            "lmestMc(responsesFormula = X1 ~ NULL, data = datalong, index = c(\"id\", \n",
            "    \"time\"), modBasic = 1)\n",
            "\n",
            "Coefficients:\n",
            "\n",
            "Initial probabilities:\n",
            "  est_piv\n",
            "0   0.511\n",
            "1   0.300\n",
            "2   0.189\n",
            "\n",
            "Transition probabilities:\n",
            "        category\n",
            "category      0      1      2\n",
            "       0 0.1123 0.1152 0.7725\n",
            "       1 0.2834 0.1429 0.5737\n",
            "       2 0.3366 0.1618 0.5016\n"
          ]
        }
      ]
    },
    {
      "cell_type": "code",
      "source": [
        "# Stima degli errori standard\n",
        "out3 <- lmestMc(responsesFormula = X1 ~ NULL,\n",
        "                index = c(\"id\", \"time\"),\n",
        "                data = datalong,\n",
        "                modBasic = 1, out_se = T)\n",
        "summary(out3)\n",
        "\n",
        "\n",
        "Pi4 <- out3$Pi[,,4]; Pi4"
      ],
      "metadata": {
        "colab": {
          "base_uri": "https://localhost:8080/",
          "height": 698
        },
        "id": "aeaOrpYtEBX7",
        "outputId": "b6398654-bf39-41c6-952d-ed8e8a3c2ae8"
      },
      "execution_count": null,
      "outputs": [
        {
          "output_type": "stream",
          "name": "stdout",
          "text": [
            "Call:\n",
            "lmestMc(responsesFormula = X1 ~ NULL, data = datalong, index = c(\"id\", \n",
            "    \"time\"), modBasic = 1, out_se = T)\n",
            "\n",
            "Coefficients:\n",
            "\n",
            "Initial probabilities:\n",
            "  est_piv\n",
            "0   0.511\n",
            "1   0.300\n",
            "2   0.189\n",
            "\n",
            "Standard errors for the initial probabilities:\n",
            "  se_piv\n",
            "0 0.0158\n",
            "1 0.0145\n",
            "2 0.0124\n",
            "\n",
            "Transition probabilities:\n",
            "        category\n",
            "category      0      1      2\n",
            "       0 0.1123 0.1152 0.7725\n",
            "       1 0.2834 0.1429 0.5737\n",
            "       2 0.3366 0.1618 0.5016\n",
            "\n",
            "Standard errors for the transition probabilities:\n",
            "        category\n",
            "category      0      1      2\n",
            "       0 0.0098 0.0099 0.0130\n",
            "       1 0.0216 0.0168 0.0237\n",
            "       2 0.0121 0.0094 0.0128\n"
          ]
        },
        {
          "output_type": "display_data",
          "data": {
            "text/html": [
              "<table class=\"dataframe\">\n",
              "<caption>A matrix: 3 × 3 of type dbl</caption>\n",
              "<thead>\n",
              "\t<tr><th></th><th scope=col>0</th><th scope=col>1</th><th scope=col>2</th></tr>\n",
              "</thead>\n",
              "<tbody>\n",
              "\t<tr><th scope=row>0</th><td>0.1122943</td><td>0.1151985</td><td>0.7725073</td></tr>\n",
              "\t<tr><th scope=row>1</th><td>0.2834101</td><td>0.1428571</td><td>0.5737327</td></tr>\n",
              "\t<tr><th scope=row>2</th><td>0.3365949</td><td>0.1617743</td><td>0.5016308</td></tr>\n",
              "</tbody>\n",
              "</table>\n"
            ],
            "text/markdown": "\nA matrix: 3 × 3 of type dbl\n\n| <!--/--> | 0 | 1 | 2 |\n|---|---|---|---|\n| 0 | 0.1122943 | 0.1151985 | 0.7725073 |\n| 1 | 0.2834101 | 0.1428571 | 0.5737327 |\n| 2 | 0.3365949 | 0.1617743 | 0.5016308 |\n\n",
            "text/latex": "A matrix: 3 × 3 of type dbl\n\\begin{tabular}{r|lll}\n  & 0 & 1 & 2\\\\\n\\hline\n\t0 & 0.1122943 & 0.1151985 & 0.7725073\\\\\n\t1 & 0.2834101 & 0.1428571 & 0.5737327\\\\\n\t2 & 0.3365949 & 0.1617743 & 0.5016308\\\\\n\\end{tabular}\n",
            "text/plain": [
              "        category\n",
              "category 0         1         2        \n",
              "       0 0.1122943 0.1151985 0.7725073\n",
              "       1 0.2834101 0.1428571 0.5737327\n",
              "       2 0.3365949 0.1617743 0.5016308"
            ]
          },
          "metadata": {}
        }
      ]
    },
    {
      "cell_type": "code",
      "source": [
        "# Intervallo di confidenza la livello del 95%\n",
        "Pi4[3,3]+c(-1,1)*qnorm(0.975)*0.0128\n"
      ],
      "metadata": {
        "colab": {
          "base_uri": "https://localhost:8080/",
          "height": 34
        },
        "id": "I1ec-KVPEFK7",
        "outputId": "bc97e137-4735-4cd7-ccb5-6ecd4f9dad90"
      },
      "execution_count": null,
      "outputs": [
        {
          "output_type": "display_data",
          "data": {
            "text/html": [
              "<style>\n",
              ".list-inline {list-style: none; margin:0; padding: 0}\n",
              ".list-inline>li {display: inline-block}\n",
              ".list-inline>li:not(:last-child)::after {content: \"\\00b7\"; padding: 0 .5ex}\n",
              "</style>\n",
              "<ol class=list-inline><li>0.47654325029991</li><li>0.526718328304135</li></ol>\n"
            ],
            "text/markdown": "1. 0.47654325029991\n2. 0.526718328304135\n\n\n",
            "text/latex": "\\begin{enumerate*}\n\\item 0.47654325029991\n\\item 0.526718328304135\n\\end{enumerate*}\n",
            "text/plain": [
              "[1] 0.4765433 0.5267183"
            ]
          },
          "metadata": {}
        }
      ]
    },
    {
      "cell_type": "markdown",
      "source": [
        "## Stima del modello eterogeneo"
      ],
      "metadata": {
        "id": "bXriiTc8EWJS"
      }
    },
    {
      "cell_type": "code",
      "source": [
        "out3h <- lmestMc(responsesFormula = X1 ~ NULL,\n",
        "                index = c(\"id\", \"time\"),\n",
        "                data = datalong,\n",
        "                modBasic = 0, out_se = T)\n",
        "print(out3h)\n",
        "\n",
        "\n",
        "summary(out3h)\n"
      ],
      "metadata": {
        "colab": {
          "base_uri": "https://localhost:8080/"
        },
        "id": "HSfYj_tZELyi",
        "outputId": "84abbbfc-1137-4aa5-ba9e-eea9192f1b4f"
      },
      "execution_count": null,
      "outputs": [
        {
          "output_type": "stream",
          "name": "stdout",
          "text": [
            "\n",
            "Basic Markov chain model\n",
            "Call:\n",
            "lmestMc(responsesFormula = X1 ~ NULL, data = datalong, index = c(\"id\", \n",
            "    \"time\"), modBasic = 0, out_se = T)\n",
            "\n",
            "Available objects:\n",
            " [1] \"lk\"       \"piv\"      \"Pi\"       \"np\"       \"aic\"      \"bic\"     \n",
            " [7] \"Fy\"       \"n\"        \"TT\"       \"modBasic\" \"sepiv\"    \"sePi\"    \n",
            "[13] \"call\"     \"data\"    \n",
            "\n",
            "Convergence info:\n",
            "     LogLik np      AIC      BIC    n TT\n",
            "  -3505.423 20 7050.847 7149.002 1000  4\n",
            "Call:\n",
            "lmestMc(responsesFormula = X1 ~ NULL, data = datalong, index = c(\"id\", \n",
            "    \"time\"), modBasic = 0, out_se = T)\n",
            "\n",
            "Coefficients:\n",
            "\n",
            "Initial probabilities:\n",
            "  est_piv\n",
            "0   0.511\n",
            "1   0.300\n",
            "2   0.189\n",
            "\n",
            "Standard errors for the initial probabilities:\n",
            "  se_piv\n",
            "0 0.0158\n",
            "1 0.0145\n",
            "2 0.0124\n",
            "\n",
            "Transition probabilities:\n",
            ", , time = 2\n",
            "\n",
            "        category\n",
            "category      0      1      2\n",
            "       0 0.1252 0.0294 0.8454\n",
            "       1 0.3700 0.1033 0.5267\n",
            "       2 0.3810 0.1217 0.4974\n",
            "\n",
            ", , time = 3\n",
            "\n",
            "        category\n",
            "category      0      1      2\n",
            "       0 0.0648 0.0202 0.9150\n",
            "       1 0.0725 0.0145 0.9130\n",
            "       2 0.3713 0.0863 0.5424\n",
            "\n",
            ", , time = 4\n",
            "\n",
            "        category\n",
            "category      0      1      2\n",
            "       0 0.1309 0.3600 0.5091\n",
            "       1 0.1077 0.4615 0.4308\n",
            "       2 0.2879 0.2515 0.4606\n",
            "\n",
            "\n",
            "Standard errors for the transition probabilities:\n",
            ", , time = 2\n",
            "\n",
            "        category\n",
            "category      0      1      2\n",
            "       0 0.0146 0.0075 0.0160\n",
            "       1 0.0279 0.0176 0.0288\n",
            "       2 0.0353 0.0238 0.0364\n",
            "\n",
            ", , time = 3\n",
            "\n",
            "        category\n",
            "category      0      1      2\n",
            "       0 0.0157 0.0090 0.0177\n",
            "       1 0.0312 0.0144 0.0339\n",
            "       2 0.0185 0.0107 0.0190\n",
            "\n",
            ", , time = 4\n",
            "\n",
            "        category\n",
            "category      0      1      2\n",
            "       0 0.0203 0.0289 0.0301\n",
            "       1 0.0384 0.0618 0.0614\n",
            "       2 0.0176 0.0169 0.0194\n",
            "\n"
          ]
        }
      ]
    },
    {
      "cell_type": "markdown",
      "source": [
        "## Stime delle probabilità marginali"
      ],
      "metadata": {
        "id": "sJ8E6JLSEc9B"
      }
    },
    {
      "cell_type": "code",
      "source": [
        "Fy <- out3h$Fy\n",
        "Fy"
      ],
      "metadata": {
        "colab": {
          "base_uri": "https://localhost:8080/",
          "height": 192
        },
        "id": "7w5HT3QQEYl0",
        "outputId": "bf4df01a-4f13-42da-e350-00c8254560c0"
      },
      "execution_count": 17,
      "outputs": [
        {
          "output_type": "display_data",
          "data": {
            "text/html": [
              "<table class=\"dataframe\">\n",
              "<caption>A matrix: 4 × 3 of type dbl</caption>\n",
              "<thead>\n",
              "\t<tr><th></th><th scope=col>0</th><th scope=col>1</th><th scope=col>2</th></tr>\n",
              "</thead>\n",
              "<tbody>\n",
              "\t<tr><th scope=row>1</th><td>0.511</td><td>0.300</td><td>0.189</td></tr>\n",
              "\t<tr><th scope=row>2</th><td>0.247</td><td>0.069</td><td>0.684</td></tr>\n",
              "\t<tr><th scope=row>3</th><td>0.275</td><td>0.065</td><td>0.660</td></tr>\n",
              "\t<tr><th scope=row>4</th><td>0.233</td><td>0.295</td><td>0.472</td></tr>\n",
              "</tbody>\n",
              "</table>\n"
            ],
            "text/markdown": "\nA matrix: 4 × 3 of type dbl\n\n| <!--/--> | 0 | 1 | 2 |\n|---|---|---|---|\n| 1 | 0.511 | 0.300 | 0.189 |\n| 2 | 0.247 | 0.069 | 0.684 |\n| 3 | 0.275 | 0.065 | 0.660 |\n| 4 | 0.233 | 0.295 | 0.472 |\n\n",
            "text/latex": "A matrix: 4 × 3 of type dbl\n\\begin{tabular}{r|lll}\n  & 0 & 1 & 2\\\\\n\\hline\n\t1 & 0.511 & 0.300 & 0.189\\\\\n\t2 & 0.247 & 0.069 & 0.684\\\\\n\t3 & 0.275 & 0.065 & 0.660\\\\\n\t4 & 0.233 & 0.295 & 0.472\\\\\n\\end{tabular}\n",
            "text/plain": [
              "    category\n",
              "time 0     1     2    \n",
              "   1 0.511 0.300 0.189\n",
              "   2 0.247 0.069 0.684\n",
              "   3 0.275 0.065 0.660\n",
              "   4 0.233 0.295 0.472"
            ]
          },
          "metadata": {}
        }
      ]
    },
    {
      "cell_type": "code",
      "source": [
        "# Traietorie\n",
        "matplot(Fy, type = \"l\",\n",
        "        ylim = c(0,1))\n"
      ],
      "metadata": {
        "id": "zczYdBgJEewi",
        "colab": {
          "base_uri": "https://localhost:8080/",
          "height": 437
        },
        "outputId": "777b47d5-c9e5-4b59-ab01-2b72fff03a03"
      },
      "execution_count": 18,
      "outputs": [
        {
          "output_type": "display_data",
          "data": {
            "text/plain": [
              "plot without title"
            ],
            "image/png": "[encoded data removed]"
          },
          "metadata": {
            "image/png": {
              "width": 420,
              "height": 420
            }
          }
        }
      ]
    },
    {
      "cell_type": "code",
      "source": [
        "#$ Matrice di transizione\n",
        "pi2 <- round(out3h$Pi[,,2],2);\n",
        "pi2\n"
      ],
      "metadata": {
        "colab": {
          "base_uri": "https://localhost:8080/",
          "height": 178
        },
        "id": "Lw8duBG-FYJc",
        "outputId": "54d6d39b-914e-47d2-8289-48fa456e831a"
      },
      "execution_count": 20,
      "outputs": [
        {
          "output_type": "display_data",
          "data": {
            "text/html": [
              "<table class=\"dataframe\">\n",
              "<caption>A matrix: 3 × 3 of type dbl</caption>\n",
              "<thead>\n",
              "\t<tr><th></th><th scope=col>0</th><th scope=col>1</th><th scope=col>2</th></tr>\n",
              "</thead>\n",
              "<tbody>\n",
              "\t<tr><th scope=row>0</th><td>0.13</td><td>0.03</td><td>0.85</td></tr>\n",
              "\t<tr><th scope=row>1</th><td>0.37</td><td>0.10</td><td>0.53</td></tr>\n",
              "\t<tr><th scope=row>2</th><td>0.38</td><td>0.12</td><td>0.50</td></tr>\n",
              "</tbody>\n",
              "</table>\n"
            ],
            "text/markdown": "\nA matrix: 3 × 3 of type dbl\n\n| <!--/--> | 0 | 1 | 2 |\n|---|---|---|---|\n| 0 | 0.13 | 0.03 | 0.85 |\n| 1 | 0.37 | 0.10 | 0.53 |\n| 2 | 0.38 | 0.12 | 0.50 |\n\n",
            "text/latex": "A matrix: 3 × 3 of type dbl\n\\begin{tabular}{r|lll}\n  & 0 & 1 & 2\\\\\n\\hline\n\t0 & 0.13 & 0.03 & 0.85\\\\\n\t1 & 0.37 & 0.10 & 0.53\\\\\n\t2 & 0.38 & 0.12 & 0.50\\\\\n\\end{tabular}\n",
            "text/plain": [
              "        category\n",
              "category 0    1    2   \n",
              "       0 0.13 0.03 0.85\n",
              "       1 0.37 0.10 0.53\n",
              "       2 0.38 0.12 0.50"
            ]
          },
          "metadata": {}
        }
      ]
    },
    {
      "cell_type": "code",
      "source": [
        "out3h$Pi"
      ],
      "metadata": {
        "colab": {
          "base_uri": "https://localhost:8080/",
          "height": 121
        },
        "id": "jKMw1PhbFpxx",
        "outputId": "3b13c341-c153-4cf6-96ac-9cea238dd89c"
      },
      "execution_count": 22,
      "outputs": [
        {
          "output_type": "display_data",
          "data": {
            "text/html": [
              "<style>\n",
              ".list-inline {list-style: none; margin:0; padding: 0}\n",
              ".list-inline>li {display: inline-block}\n",
              ".list-inline>li:not(:last-child)::after {content: \"\\00b7\"; padding: 0 .5ex}\n",
              "</style>\n",
              "<ol class=list-inline><li>0</li><li>0</li><li>0</li><li>0</li><li>0</li><li>0</li><li>0</li><li>0</li><li>0</li><li>0.125244618395303</li><li>0.37</li><li>0.380952380952381</li><li>0.0293542074363992</li><li>0.103333333333333</li><li>0.121693121693122</li><li>0.845401174168297</li><li>0.526666666666667</li><li>0.497354497354497</li><li>0.0647773279352227</li><li>0.072463768115942</li><li>0.371345029239766</li><li>0.0202429149797571</li><li>0.0144927536231884</li><li>0.0862573099415205</li><li>0.91497975708502</li><li>0.91304347826087</li><li>0.542397660818713</li><li>0.130909090909091</li><li>0.107692307692308</li><li>0.287878787878788</li><li>0.36</li><li>0.461538461538462</li><li>0.251515151515152</li><li>0.509090909090909</li><li>0.430769230769231</li><li>0.460606060606061</li></ol>\n"
            ],
            "text/markdown": "1. 0\n2. 0\n3. 0\n4. 0\n5. 0\n6. 0\n7. 0\n8. 0\n9. 0\n10. 0.125244618395303\n11. 0.37\n12. 0.380952380952381\n13. 0.0293542074363992\n14. 0.103333333333333\n15. 0.121693121693122\n16. 0.845401174168297\n17. 0.526666666666667\n18. 0.497354497354497\n19. 0.0647773279352227\n20. 0.072463768115942\n21. 0.371345029239766\n22. 0.0202429149797571\n23. 0.0144927536231884\n24. 0.0862573099415205\n25. 0.91497975708502\n26. 0.91304347826087\n27. 0.542397660818713\n28. 0.130909090909091\n29. 0.107692307692308\n30. 0.287878787878788\n31. 0.36\n32. 0.461538461538462\n33. 0.251515151515152\n34. 0.509090909090909\n35. 0.430769230769231\n36. 0.460606060606061\n\n\n",
            "text/latex": "\\begin{enumerate*}\n\\item 0\n\\item 0\n\\item 0\n\\item 0\n\\item 0\n\\item 0\n\\item 0\n\\item 0\n\\item 0\n\\item 0.125244618395303\n\\item 0.37\n\\item 0.380952380952381\n\\item 0.0293542074363992\n\\item 0.103333333333333\n\\item 0.121693121693122\n\\item 0.845401174168297\n\\item 0.526666666666667\n\\item 0.497354497354497\n\\item 0.0647773279352227\n\\item 0.072463768115942\n\\item 0.371345029239766\n\\item 0.0202429149797571\n\\item 0.0144927536231884\n\\item 0.0862573099415205\n\\item 0.91497975708502\n\\item 0.91304347826087\n\\item 0.542397660818713\n\\item 0.130909090909091\n\\item 0.107692307692308\n\\item 0.287878787878788\n\\item 0.36\n\\item 0.461538461538462\n\\item 0.251515151515152\n\\item 0.509090909090909\n\\item 0.430769230769231\n\\item 0.460606060606061\n\\end{enumerate*}\n",
            "text/plain": [
              ", , time = 1\n",
              "\n",
              "        category\n",
              "category 0 1 2\n",
              "       0 0 0 0\n",
              "       1 0 0 0\n",
              "       2 0 0 0\n",
              "\n",
              ", , time = 2\n",
              "\n",
              "        category\n",
              "category         0          1         2\n",
              "       0 0.1252446 0.02935421 0.8454012\n",
              "       1 0.3700000 0.10333333 0.5266667\n",
              "       2 0.3809524 0.12169312 0.4973545\n",
              "\n",
              ", , time = 3\n",
              "\n",
              "        category\n",
              "category          0          1         2\n",
              "       0 0.06477733 0.02024291 0.9149798\n",
              "       1 0.07246377 0.01449275 0.9130435\n",
              "       2 0.37134503 0.08625731 0.5423977\n",
              "\n",
              ", , time = 4\n",
              "\n",
              "        category\n",
              "category         0         1         2\n",
              "       0 0.1309091 0.3600000 0.5090909\n",
              "       1 0.1076923 0.4615385 0.4307692\n",
              "       2 0.2878788 0.2515152 0.4606061\n"
            ]
          },
          "metadata": {}
        }
      ]
    },
    {
      "cell_type": "code",
      "source": [
        "pi3 <- round(out3h$Pi[,,3],2);\n",
        "pi3"
      ],
      "metadata": {
        "colab": {
          "base_uri": "https://localhost:8080/",
          "height": 178
        },
        "id": "xAoNJuY1F4Em",
        "outputId": "b92543d6-f1b4-4a5e-ce96-a45e11e20102"
      },
      "execution_count": 24,
      "outputs": [
        {
          "output_type": "display_data",
          "data": {
            "text/html": [
              "<table class=\"dataframe\">\n",
              "<caption>A matrix: 3 × 3 of type dbl</caption>\n",
              "<thead>\n",
              "\t<tr><th></th><th scope=col>0</th><th scope=col>1</th><th scope=col>2</th></tr>\n",
              "</thead>\n",
              "<tbody>\n",
              "\t<tr><th scope=row>0</th><td>0.06</td><td>0.02</td><td>0.91</td></tr>\n",
              "\t<tr><th scope=row>1</th><td>0.07</td><td>0.01</td><td>0.91</td></tr>\n",
              "\t<tr><th scope=row>2</th><td>0.37</td><td>0.09</td><td>0.54</td></tr>\n",
              "</tbody>\n",
              "</table>\n"
            ],
            "text/markdown": "\nA matrix: 3 × 3 of type dbl\n\n| <!--/--> | 0 | 1 | 2 |\n|---|---|---|---|\n| 0 | 0.06 | 0.02 | 0.91 |\n| 1 | 0.07 | 0.01 | 0.91 |\n| 2 | 0.37 | 0.09 | 0.54 |\n\n",
            "text/latex": "A matrix: 3 × 3 of type dbl\n\\begin{tabular}{r|lll}\n  & 0 & 1 & 2\\\\\n\\hline\n\t0 & 0.06 & 0.02 & 0.91\\\\\n\t1 & 0.07 & 0.01 & 0.91\\\\\n\t2 & 0.37 & 0.09 & 0.54\\\\\n\\end{tabular}\n",
            "text/plain": [
              "        category\n",
              "category 0    1    2   \n",
              "       0 0.06 0.02 0.91\n",
              "       1 0.07 0.01 0.91\n",
              "       2 0.37 0.09 0.54"
            ]
          },
          "metadata": {}
        }
      ]
    },
    {
      "cell_type": "code",
      "source": [
        "pi4 <- round(out3h$Pi[,,4],2);\n",
        "pi4"
      ],
      "metadata": {
        "colab": {
          "base_uri": "https://localhost:8080/",
          "height": 178
        },
        "id": "uUxLw5ZKFs7a",
        "outputId": "65265526-9941-4661-a973-c33a62f35941"
      },
      "execution_count": 25,
      "outputs": [
        {
          "output_type": "display_data",
          "data": {
            "text/html": [
              "<table class=\"dataframe\">\n",
              "<caption>A matrix: 3 × 3 of type dbl</caption>\n",
              "<thead>\n",
              "\t<tr><th></th><th scope=col>0</th><th scope=col>1</th><th scope=col>2</th></tr>\n",
              "</thead>\n",
              "<tbody>\n",
              "\t<tr><th scope=row>0</th><td>0.13</td><td>0.36</td><td>0.51</td></tr>\n",
              "\t<tr><th scope=row>1</th><td>0.11</td><td>0.46</td><td>0.43</td></tr>\n",
              "\t<tr><th scope=row>2</th><td>0.29</td><td>0.25</td><td>0.46</td></tr>\n",
              "</tbody>\n",
              "</table>\n"
            ],
            "text/markdown": "\nA matrix: 3 × 3 of type dbl\n\n| <!--/--> | 0 | 1 | 2 |\n|---|---|---|---|\n| 0 | 0.13 | 0.36 | 0.51 |\n| 1 | 0.11 | 0.46 | 0.43 |\n| 2 | 0.29 | 0.25 | 0.46 |\n\n",
            "text/latex": "A matrix: 3 × 3 of type dbl\n\\begin{tabular}{r|lll}\n  & 0 & 1 & 2\\\\\n\\hline\n\t0 & 0.13 & 0.36 & 0.51\\\\\n\t1 & 0.11 & 0.46 & 0.43\\\\\n\t2 & 0.29 & 0.25 & 0.46\\\\\n\\end{tabular}\n",
            "text/plain": [
              "        category\n",
              "category 0    1    2   \n",
              "       0 0.13 0.36 0.51\n",
              "       1 0.11 0.46 0.43\n",
              "       2 0.29 0.25 0.46"
            ]
          },
          "metadata": {}
        }
      ]
    },
    {
      "cell_type": "code",
      "source": [
        "library(diagram)\n",
        "## Loading required package: shape\n",
        "plotmat(t(pi2),\n",
        "        lwd = 1,\n",
        "        box.lwd = 2,\n",
        "        box.col =  \"pink\",\n",
        "        relsize = 0.7,\n",
        "        self.cex = 0.8,\n",
        "        cex.txt = 0.7,\n",
        "        box.size = 0.1,\n",
        "        box.prop = 0.3,\n",
        "        main = \"Matrice di transizione\")\n"
      ],
      "metadata": {
        "colab": {
          "base_uri": "https://localhost:8080/",
          "height": 472
        },
        "id": "N18FehNLF9ka",
        "outputId": "e1b27d9a-0fef-43db-886c-78bfce382887"
      },
      "execution_count": 26,
      "outputs": [
        {
          "output_type": "stream",
          "name": "stderr",
          "text": [
            "Loading required package: shape\n",
            "\n"
          ]
        },
        {
          "output_type": "display_data",
          "data": {
            "text/plain": [
              "Plot with title “Matrice di transizione”"
            ],
            "image/png": "[encoded data removed]"
          },
          "metadata": {
            "image/png": {
              "width": 420,
              "height": 420
            }
          }
        }
      ]
    },
    {
      "cell_type": "code",
      "source": [
        "plotmat(t(pi3),\n",
        "        lwd = 1,\n",
        "        box.lwd = 2,\n",
        "        box.col =  \"blue\",\n",
        "        relsize = 0.7,\n",
        "        self.cex = 0.8,\n",
        "        cex.txt = 0.7,\n",
        "        box.size = 0.1,\n",
        "        box.prop = 0.3,\n",
        "        main = \"Matrice di transizione\")\n"
      ],
      "metadata": {
        "colab": {
          "base_uri": "https://localhost:8080/",
          "height": 437
        },
        "id": "VorMcZn7GAL8",
        "outputId": "c1782308-e69e-4b14-bbfe-8f84123054da"
      },
      "execution_count": 28,
      "outputs": [
        {
          "output_type": "display_data",
          "data": {
            "text/plain": [
              "Plot with title “Matrice di transizione”"
            ],
            "image/png": "[encoded data removed]"
          },
          "metadata": {
            "image/png": {
              "width": 420,
              "height": 420
            }
          }
        }
      ]
    },
    {
      "cell_type": "code",
      "source": [
        "plotmat(t(pi4),\n",
        "        lwd = 1,\n",
        "        box.lwd = 2,\n",
        "        box.col =  \"green\",\n",
        "        relsize = 0.7,\n",
        "        self.cex = 0.8,\n",
        "        cex.txt = 0.7,\n",
        "        box.size = 0.1,\n",
        "        box.prop = 0.3,\n",
        "        main = \"Matrice di transizione\")\n"
      ],
      "metadata": {
        "colab": {
          "base_uri": "https://localhost:8080/",
          "height": 437
        },
        "id": "D-4oIwL4GFsq",
        "outputId": "1545190b-9d7f-460e-f784-12b897e7481c"
      },
      "execution_count": 29,
      "outputs": [
        {
          "output_type": "display_data",
          "data": {
            "text/plain": [
              "Plot with title “Matrice di transizione”"
            ],
            "image/png": "[encoded data removed]"
          },
          "metadata": {
            "image/png": {
              "width": 420,
              "height": 420
            }
          }
        }
      ]
    },
    {
      "cell_type": "code",
      "source": [],
      "metadata": {
        "id": "AKXzAJqTGF-y"
      },
      "execution_count": 32,
      "outputs": []
    },
    {
      "cell_type": "markdown",
      "source": [
        "## Modello Hidden Markov\n"
      ],
      "metadata": {
        "id": "pYwOXvziGJY1"
      }
    },
    {
      "cell_type": "code",
      "source": [
        "require(LMest)\n",
        "data(\"RLMSlong\")\n",
        "data(\"RLMSdat\")\n"
      ],
      "metadata": {
        "id": "cTXWxbGTGIN1"
      },
      "execution_count": 43,
      "outputs": []
    },
    {
      "cell_type": "code",
      "source": [
        "new.levels <- c(4,3,2,1,0)\n",
        "\n",
        "RLMSlong$value <- new.levels[RLMSlong$value]\n",
        "\n",
        "\n",
        "\n",
        "\n"
      ],
      "metadata": {
        "id": "RFFERR-uGIQY"
      },
      "execution_count": 44,
      "outputs": []
    },
    {
      "cell_type": "code",
      "source": [
        "dt <- lmestData(data=RLMSlong,\n",
        "                id = \"id\",\n",
        "                time = \"time\",\n",
        "                responsesFormula = value ~ NULL)"
      ],
      "metadata": {
        "id": "ZJgytWEAI6uy"
      },
      "execution_count": 45,
      "outputs": []
    },
    {
      "cell_type": "code",
      "source": [
        "summary(dt, dataSummary = \"responses\",\n",
        "        varType = rep(\"d\",ncol(dt$Y)))"
      ],
      "metadata": {
        "colab": {
          "base_uri": "https://localhost:8080/"
        },
        "id": "oCtmvnCNGITF",
        "outputId": "8f51178e-7b5d-4881-c13a-5db638fec413"
      },
      "execution_count": 46,
      "outputs": [
        {
          "output_type": "stream",
          "name": "stdout",
          "text": [
            "\n",
            "Data Info:\n",
            "---------- \n",
            "\n",
            "Observations:        1718 \n",
            "Time occasions:      7 \n",
            "Variables:           1 \n",
            "\n",
            "\n",
            "Proportion:\n",
            "---------- \n",
            "\n",
            " time     value      \n",
            " 1:1718   0:0.0251954\n",
            " 2:1718   1:0.0975387\n",
            " 3:1718   2:0.205222 \n",
            " 4:1718   3:0.5415766\n",
            " 5:1718   4:0.1304673\n",
            " 6:1718              \n",
            " 7:1718              \n",
            "\n",
            "Proportion by year:\n",
            "---------- \n",
            "\n",
            "\n",
            "Time =  1 \n",
            "\n",
            " time     value      \n",
            " 1:1718   0:0.0343423\n",
            "          1:0.1263097\n",
            "          2:0.1763679\n",
            "          3:0.5261932\n",
            "          4:0.136787 \n",
            "\n",
            "Time =  2 \n",
            "\n",
            " time     value      \n",
            " 2:1718   0:0.032014 \n",
            "          1:0.1006985\n",
            "          2:0.2008149\n",
            "          3:0.5349243\n",
            "          4:0.1315483\n",
            "\n",
            "Time =  3 \n",
            "\n",
            " time     value      \n",
            " 3:1718   0:0.0273574\n",
            "          1:0.1117579\n",
            "          2:0.1973225\n",
            "          3:0.5064028\n",
            "          4:0.1571595\n",
            "\n",
            "Time =  4 \n",
            "\n",
            " time     value      \n",
            " 4:1718   0:0.024447 \n",
            "          1:0.1036088\n",
            "          2:0.201979 \n",
            "          3:0.5681024\n",
            "          4:0.1018626\n",
            "\n",
            "Time =  5 \n",
            "\n",
            " time     value      \n",
            " 5:1718   0:0.0256112\n",
            "          1:0.080326 \n",
            "          2:0.2159488\n",
            "          3:0.5349243\n",
            "          4:0.1431898\n",
            "\n",
            "Time =  6 \n",
            "\n",
            " time     value      \n",
            " 6:1718   0:0.0151339\n",
            "          1:0.080908 \n",
            "          2:0.2305006\n",
            "          3:0.5529686\n",
            "          4:0.1204889\n",
            "\n",
            "Time =  7 \n",
            "\n",
            " time     value      \n",
            " 7:1718   0:0.0174622\n",
            "          1:0.0791618\n",
            "          2:0.2136205\n",
            "          3:0.5675204\n",
            "          4:0.1222352\n"
          ]
        }
      ]
    },
    {
      "cell_type": "code",
      "source": [],
      "metadata": {
        "id": "rQ0_rw3YI1cC"
      },
      "execution_count": null,
      "outputs": []
    }
  ]
}
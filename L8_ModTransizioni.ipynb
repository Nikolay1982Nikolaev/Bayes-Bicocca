{
  "nbformat": 4,
  "nbformat_minor": 0,
  "metadata": {
    "colab": {
      "provenance": [],
      "authorship_tag": "ABX9TyMLVENgiGmUtcxqY0LMe3Nj",
      "include_colab_link": true
    },
    "kernelspec": {
      "name": "python3",
      "display_name": "Python 3"
    },
    "language_info": {
      "name": "python"
    }
  },
  "cells": [
    {
      "cell_type": "markdown",
      "metadata": {
        "id": "view-in-github",
        "colab_type": "text"
      },
      "source": [
        "<a href=\"https://colab.research.google.com/github/Nikolay1982Nikolaev/Bayes-Bicocca/blob/main/L8_ModTransizioni.ipynb\" target=\"_parent\"><img src=\"https://colab.research.google.com/assets/colab-badge.svg\" alt=\"Open In Colab\"/></a>"
      ]
    },
    {
      "cell_type": "markdown",
      "source": [
        "Per un processo stocastico con spazio degli stati finito la proprieta di ricorrenza della catena di Markov permette di soddisfare le proprieta asintotiche utili per determinare la distribuzione di equlibrio\n",
        "\n",
        "Nel caso in cui lo spazio degli stati e' illimitatamente continuo occore che la ate na Markov soddisfi la riccorenza secondo la definizione di Harris in modo che la probabilita di visita di un certo sottoinsieme A infinite volte sia pari a uno.\n",
        "\n",
        "Qaando il processo raggiunge la distribuzione stazionaria, si dice che il processo e' per sempre in equlibrio o oscilla nel sottospazio definito dalla distriuzione marginale del processo.\n",
        "\n",
        "La proprieta di RICIRENZA permette di definire delle restizioni in modo tale da essere certi che gli stati al limite possono essere visitati infinite volte\n",
        "\n",
        "La stazionarieta permette di assegnare una componente costante alla struttura probabilistica della catena definisce le posizione del processo, ed assicura che la struttura probabilistica rimanga costante\n",
        "\n",
        "Il periodo della catena e' la ibgheza di tempo che il proceso richiede per ripetere lo stesso ciclo di realizzazioni\n",
        "\n",
        "Una catena di Marakov e' ERGODICA quando il tempo medio di visita di uno stato e' uguale alla probabilita di quello stato rispetto ad una densita di interesse\n",
        "\n",
        "La proprieta di ergodicita asicura che se la catena ha raggiunto lo stato ergodico i valori campionati possono essere considerati delle determinazioni della distribuzione di interesse.\n",
        "\n",
        "Se e' possibile costruire una catena di Markov con queste caratteristiche  allora la catena avra un unica distribuzione limite che e' la distribuzione di equlibrio ovvero proprio la densita a posteriori che interessa simulare\n",
        "\n",
        "Gli algoritmi che veranno introdotti denominati MH e Gibs sample permettono di avere un kernel di transizione che ammette uan distribuzione sstazionaria $p(\\theta|x)$\n",
        "\n",
        "La technica risultante dall'utilizzo di un processo stocastico Markoviano e' definita MCMC e prevede si campionamento da una catena di Markov che ha una distribuzione stazionaria che coincide con la densita da integrare\n",
        "\n"
      ],
      "metadata": {
        "id": "MmeSvdUNvx0u"
      }
    },
    {
      "cell_type": "markdown",
      "source": [],
      "metadata": {
        "id": "I1dbEelmvx3K"
      }
    },
    {
      "cell_type": "markdown",
      "source": [],
      "metadata": {
        "id": "JEB0dtltvx70"
      }
    },
    {
      "cell_type": "markdown",
      "source": [],
      "metadata": {
        "id": "34UhW9G7vx-K"
      }
    },
    {
      "cell_type": "markdown",
      "source": [],
      "metadata": {
        "id": "zMb746O4vyAn"
      }
    },
    {
      "cell_type": "markdown",
      "source": [
        "\n",
        "\n",
        "\n"
      ],
      "metadata": {
        "id": "qzKI8kS9vxyI"
      }
    },
    {
      "cell_type": "markdown",
      "source": [
        "## Passeggiata casuale\n",
        "\n",
        "Un processo stocasticico e' PC quando il valore assunto dal processo al passo n si pu esprimere:\n",
        "$$X_n = X_{n-1}+ W_n$$\n",
        "\n",
        "$W_n$ variabile casuale d Bernoulli con probabilita p e a valori $\\pm 1$\n",
        "\n",
        "si nota che si tratta di un proceso Markoviano in quanto lo stato del proceso al tempo t dipende dallo stato al tempo t-1\n",
        "\n",
        "Questyo speciale processo si caratterizza per il fatto che esiste solo la probabilita di pasaaggio da uno stato a qualle immediatamente adiacente; p e' la probabilita di movimento verso una direzione e 1-p e' quella verso la direzione opposta\n",
        "\n",
        "esempio\n",
        "$$P(X_n=j|X_{n-1}=j+1)= p$$\n",
        "$$P(X_n= j|X_{n-1}=j-1) 1-p$$\n",
        "\n",
        "Fissando uno stato iniziale o di partenza $X_0$ della passegiata il processo si scrive anche nel seguente modo\n",
        "\n",
        "$$X_n= X_0 + \\sum_{i=1}^{n-1} W_i$$\n",
        "\n",
        "La matrice di transizione di questo particolare proceso stocastico ha elementi pairi a 0 (non e' persistente) nella diagonale principale ad eccezzione dei stati assorbenti ((stati terminali del processo) in quanto non e' mai possibile rimanere nello stesso stato se non quando il processo arriva nello stato terminale\n",
        "\n",
        "Nell'esempio che segue si considera un processo con 6 stati. Il vettore che definisce le probabilita iniziale della catena e' $$\\pi= (0 0 0 1 0 0 )$$\n",
        " in pratica all'inizio della passaggiata il processo si trova nello stato 4\n",
        "\n",
        ""
      ],
      "metadata": {
        "id": "3JmtfZqQvyCt"
      }
    },
    {
      "cell_type": "markdown",
      "source": [
        "## Modello di transizione - Markov Chain Transitional model\n",
        "\n",
        "Utilizza le proprieta del processo esposto nel contesto dei dati longitudinali\n",
        "\n",
        "I dati lingitudinali sono relativi ad osservazioni ripetute sulla stessa unita statistica in piu isntati temporanei e riguardano un'insioeme di unita statistiche\n",
        "\n",
        "Nel contempo presentano una struttura più complessa rispetto ad\n",
        "altre tipologie di dati, ad esempio, un’indagine statistica (survey)\n",
        "pianificata su più tempi presenta delle caratteristiche peculiari che\n",
        "riguardano\n",
        "\n",
        "le unità (individui), il periodo temporale (tempi, le rispettive\n",
        "frequenze) e le variabili di interesse (risposta e covariate) che\n",
        "possono variare nel tempo\n",
        "\n",
        "Inoltre non sempre le rilevazioni risultano disponibili per tutti i\n",
        "periodi temporali per ogni unità e questo comporta dei valori\n",
        "mancanti che devono essere trattati in modo opportuno\n",
        "\n",
        "Le seguente variabili $Y^{(1)}...Y^{(T)}$ sono le variabili risposta che rappresentano un processo stocastico Markoviano\n",
        "\n",
        "Ogni Y ha c categorie dette anche categorie di risposta: c=0...c-1\n",
        "\n",
        "In base alle proprietà esposte in precedenza il modello grafico (detto\n",
        "anche grafo direzionato aciclico) è formato da archi che uniscono\n",
        "solo i nodi (le variabili) immediatamente seguenti in senso temporale\n",
        "\n",
        "\n",
        "Path diagram:\n",
        "\n",
        "$$Y^{(1)}--> Y^{(2)}--> ...--> Y^{(T)}$$\n",
        "\n",
        "\n",
        "\n",
        "\n"
      ],
      "metadata": {
        "id": "nGy_UrVbvyFF"
      }
    },
    {
      "cell_type": "markdown",
      "source": [
        "La distribuzione congiunta delle risposte rispetto alle ipotesi di\n",
        "Markovianità del primo ordine ed omogeneità della catena si ricava a\n",
        "partire da un vettore di realizzazioni $y=y_1...y_n$\n",
        "\n",
        "$$f(y)= \\pi_{y^{(1)}}\\Pi_{y^{(t)}|y^{(t-1)}}$$\n",
        "\n",
        "- $\\pi_{y^{(1)}}$ sono le probabilita inziali di ogni stato (categoria)\n",
        "-  $\\Pi_{y^{(t)}|y^{(t-1)}}$ e' la matrice di transizone tra gli stati della catena\n",
        "\n",
        "Nel seguoto le probabilita inizlia: $\\pi_{y^{(1)}}= \\pi_y$\n",
        "- prob di transizione $\\Pi_{y^{(t)}|y^{(t-1)}} = \\pi_{y|\\bar{y}}$"
      ],
      "metadata": {
        "id": "spOL9v_bvyHP"
      }
    },
    {
      "cell_type": "markdown",
      "source": [
        "I parametri nel modello di transizione sono pertanto relativi alle\n",
        "probabilità di ogni stato nel periodo iniziale e di transizione tra stati\n",
        "nei periodi successivi\n",
        "\n",
        "I vincoli imposti su tali parametri sono che la somma delle\n",
        "probabilità iniziali sia pari a 1 e che la matrice di transizione sia una\n",
        "matrice stocastica\n",
        "\n",
        "Il modello presenta un numero di parametri liberi ( np, degrees of\n",
        "freedom) pari alla seguente somma che coinvolge il numero di\n",
        "categorie della variabile risposta c\n",
        "\n",
        "$$np = c-1 + c(c-1)$$\n"
      ],
      "metadata": {
        "id": "oTs7DI52vyJk"
      }
    },
    {
      "cell_type": "markdown",
      "source": [
        "Disponendo di un campione con n unità e considerando le\n",
        "configurazioni di risposta osservate y (dette pattern di risposta) e le rispettive frequenze $n_y$ la funzione di log-verosim si puo scrivere:\n",
        "$$l(\\theta)= \\sum_{y} n_y log(f(y))$$\n",
        "\n",
        "- $\\theta$ - il vettore dei parametri che raccoglie tutti quelli del modelo\n",
        "\n",
        "\n",
        "La verosimiglianza precedente si puÃš scrivere come somma che\n",
        "coinvolge i rispettivi parametri nel modo seguente\n",
        "\n",
        "$$l(\\theta)= \\sum_{y=0}^{c-1}a_y^{(1)} log \\pi_y + \\sum_{\\bar{y}}^{c-1} \\sum_{y=0}^{c-1} a_{\\bar{y}y} log(\\pi_{y|\\bar{y}})$$\n",
        "\n",
        "- $a_y^{(1)}$ - indica il numero di unita che presentano la modalita y nel periodo iniziale\n",
        "\n",
        "mentre con $a_{\\bar{y}y}$ si indica ilnumero di uniota che presentano la modalita $\\bar{y}$ al tempo t-1 e y al tempo t pertanto che transitano da uno stato ad un altro nel tempo\n",
        "\n",
        "Le soluzioni per l’equazione precedente sono le seguenti\n",
        "$$\\hat{\\pi_y}= \\frac{a_y^{(1)}}{n}$$\n",
        "\n",
        "$$\\hat{\\pi}_{y|\\bar{y}}= \\frac{a_{\\bar{y}y}}{a_{\\bar{y}}}$$\n",
        "\n",
        "- $\\bar{y}, y = 0,....c-1$ sono le stime di massima verosimiglianza\n",
        "dei parametri del modello.\n",
        "\n",
        "La precisione delle stime si determina impiegando gli errori standard\n",
        "che si utilizzano sia per la verifica delle ipotesi sia per la\n",
        "determinazione degli intervalli di confidenza\n",
        "\n"
      ],
      "metadata": {
        "id": "b9PciyBbvyL4"
      }
    },
    {
      "cell_type": "markdown",
      "source": [
        "\n",
        "Gli errori standard si ottengono:\n",
        "- sia imiegando la radice quadrata degli elementi suladiagonale dell'inversa della matrice di informazione e utilizzando il metodo asintotico\n",
        "- oppure dalla matrice d'informazione attesa\n",
        "- oppure impiegato il bootstrap"
      ],
      "metadata": {
        "id": "SBSeMqY0vyWy"
      }
    }
  ]
}
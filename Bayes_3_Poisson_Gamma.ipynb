{
  "nbformat": 4,
  "nbformat_minor": 0,
  "metadata": {
    "colab": {
      "provenance": [],
      "authorship_tag": "ABX9TyNH0zkHzUfP/EyVM4aHRvmH",
      "include_colab_link": true
    },
    "kernelspec": {
      "name": "python3",
      "display_name": "Python 3"
    },
    "language_info": {
      "name": "python"
    }
  },
  "cells": [
    {
      "cell_type": "markdown",
      "metadata": {
        "id": "view-in-github",
        "colab_type": "text"
      },
      "source": [
        "<a href=\"https://colab.research.google.com/github/Nikolay1982Nikolaev/Bayes-Bicocca/blob/main/Bayes_3_Poisson_Gamma.ipynb\" target=\"_parent\"><img src=\"https://colab.research.google.com/assets/colab-badge.svg\" alt=\"Open In Colab\"/></a>"
      ]
    },
    {
      "cell_type": "markdown",
      "source": [
        "$X_1..X_n$ v.c. indipendenti con distribuzione di Poisson e $\\lambda> 0$\n",
        "\n",
        "- campione di n-realizzazioni indipendenti $x=(x_1...x_n)$ si dimostra che la log-verosimiglianza ha il kernel della distribuzione Gamma\n",
        "\n",
        "$$l(\\lambda, x)\\propto exp[-n\\lambda]exp[log(\\lambda)\\sum_i x_i]$$\n",
        "- i=1..n\n",
        "\n",
        "Nel modello coniugato la distribuzione a priori per il parametro e' una Gamma $\\lambda \\sim Gamma(\\alpha, \\beta)$\n",
        "- $\\alpha$ - shape - forma\n",
        "- $\\beta$ - scla - rate\n",
        "\n",
        "$$p(\\lambda) = \\frac{\\beta^{\\alpha}\\lambda^{\\alpha-1}exp[-\\beta \\lambda]}{\\Gamma(\\alpha)}$$\n",
        "- con $\\alpha, \\beta, \\lambda >0$\n",
        "\n",
        "$$E[\\lambda]= \\frac{\\alpha}{\\beta}$$\n",
        "\n",
        "$$Moda= \\lambda{\\alpha-1}{\\beta}????$$\n",
        "\n",
        "$$Var(\\lambda)= \\frac{\\alpha}{\\beta^2}$$\n",
        "\n",
        "Si dimostra che la distribuzione a posteriori e' ancora una Gamma:\n",
        "$$p(\\lambda|x) \\propto \\lambda^{\\sum_i x_i+\\alpha-1}exp[-\\lambda(\\beta+n)]$$\n",
        "\n",
        "ovvero\n",
        "$$p(\\lambda|x)\\sim Gamma(\\alpha + \\sum_i x_i, \\beta+ n)\\sim Gamma(\\alpha + n\\bar{x}, \\beta+n)$$\n",
        "\n",
        "La stima a posteriori del parametro:\n",
        "\n",
        "$$E[\\lambda|x]= \\frac{\\alpha + \\sum_i^n x_i}{\\beta + n}$$\n",
        "\n",
        "La distribuzione marginale si ricava come $$\\frac{Poisson*Gamma}{Gamma}$$\n",
        "$$p(x)= \\frac{p(x|\\theta)p(\\theta)}{p(\\theta|x)}$$\n",
        "\n",
        "Si dimostra che segue una distribuzione Binomiale Negativa:\n",
        "\n",
        "$$p(x_1...x_n)= \\frac{\\beta^{\\alpha}}{\\Gamma(\\alpha)\\prod_{i=1}^n x_i!}\\frac{\\Gamma(\\alpha + \\sum_{i=1}^n) x_i}{(\\beta + n)}$$"
      ],
      "metadata": {
        "id": "h9yYh-CdDF4m"
      }
    },
    {
      "cell_type": "markdown",
      "source": [
        "La distribuzione preditiva\n",
        "\n",
        "$$P(X^*=x^*|x)= ....$$\n",
        "per $x^* \\in 0,1,2...$\n",
        "\n",
        "La distribuzione predittiva e' una Binomiale Negativa\n",
        "\n",
        "$$E[X^*=x^*|x]= E[\\lambda|x]$$\n",
        "\n",
        "$$Var[X^*=x^*|x]= E(\\lambda|x)\\frac{\\beta + n +1}{\\beta + n}$$\n",
        "\n",
        "La variabilita prevista e' una misura dell'incertezza circa una nuova osservazione riferita alla popolazione\n",
        "\n"
      ],
      "metadata": {
        "id": "8_wcMcMyDF7R"
      }
    },
    {
      "cell_type": "markdown",
      "source": [
        "## Modello Multinomiale:\n",
        "\n",
        "Generalizza la distribuzione Binomiale in quanto si utilizza per descrivere i fenomeni nei quali ogni osservazione e' una modalita tra le $k$- possibili\n",
        "\n",
        "La distribuzione riguarda il numero di volte che la k-esima modalita di un carattere categoriale si e' presentata\n",
        "\n",
        "Siano $X_1..X_k$ le variabili casuali riferite al numero di volte in cui si presenta una coleezione di k-eventi e sia $p_1...p_k$ la rispettiva probabilita per ogni evento con vincolo:$$p_1+p_2+...+p_k= 1$$\n",
        "\n",
        "Considernado n prove indipendenti ogni variabile casuale $X_k$ ha valori in 0 e n ma i valori che assume la disribuzione congiunta sono vincolati a $\\sum X_k=n$\n",
        "\n",
        "Il numero p di possibili campioni per i quali $x_1$ assume la vategoria 1, $x_2$ assume la categoria 2 e $x_k$ assume la categoria k con i vincoli precedenti risultano $\\frac{n!}{x_1!x_2!...x_k!}$ e questa viene chiamata coefficiente multinomiale\n",
        "\n",
        "Ognuno dei possibli campioni ha probabilita $$p_1^{x_1}...p_k^{x_k}$$ e pertanto la probabilita congiunta dei conteggi campionari $(x_1..x_k)$ e\n",
        "\n",
        "$$P(X_1=x_1...X_k=x_k)= (\\frac{n!}{x_1!...x_k!})p_1^{x_1}....p_k^{x_k}$$\n",
        "\n",
        "Formalmente la variabile casuale si indica nel modo seguente considerando un camione casuale di ampiezza n\n",
        "\n",
        "$$y\\sim Multi(n, p)$$\n",
        "\n",
        "con $y=(y_1...y_k)'$ tale che\n",
        "$$Y_j= \\sum_{i=1}^n I(X_i= j)$$\n",
        "\n",
        "$$f(y|p)= \\frac{n!}{\\prod_j y_j!}\\prod_j p_j^{y_j}$$\n",
        "\n",
        "\n",
        "Per questa distribuzione il modello coniugato si ottiene quando la distribuzione a pripori e' una distibuzione Dirichlet ovvero una generalizzazione multivariate ella distribuzione Beta:\n",
        "\n",
        "$$p\\sim Dir(\\alpha)$$\n",
        "\n",
        " $\\alpha= (\\alpha_1...\\alpha_k)'$\n",
        "\n",
        " Definendo $\\sum_j \\alpha_j= \\alpha_0$\n",
        "\n",
        "$$f(p= \\frac{\\Gamma(\\alpha_0)}{\\prod_j \\Gamma(\\alpha_j)})\\prod_j p_j^{\\alpha_j-1}$$\n",
        "\n",
        "$$E(p_j)= \\frac{\\alpha_j}{\\alpha_0}$$\n",
        "\n",
        "$$MODA= \\frac{\\alpha_j-1}{\\alpha_0-k}$$\n",
        "\n",
        "Pertanto la distribuzione a posteriori e' ancora una distribuzione di Dirichlet:\n",
        "$$f(p|y) \\sim Dir(\\alpha + y)$$\n",
        "\n",
        "con\n",
        "$$E(p_j|y)= \\frac{\\alpha_j+ y_j}{\\alpha_0}+ n$$\n",
        "\n",
        "$$Moda= \\frac{\\alpha_j+ y_j-1}{\\alpha_0 + n -k}$$\n",
        "\n",
        "La media a posteriori si interpreta come media pesata della stima di massima verosimiglianza e la media distribuzione a priori\n",
        "\n",
        "$$E(p_j|y)= \\frac{\\alpha_j}{\\alpha_0} \\frac{\\alpha_0}{(\\alpha_0+n)} + \\frac{y_j}{n} \\frac{n}{(\\alpha_0+ n)}$$\n",
        "\n",
        "- $\\frac{\\alpha_0}{(\\alpha_0+n)}$ il peso della prior\n",
        "\n",
        "- $\\frac{n}{(\\alpha_0+ n)}$ pesso della verosimiglianza\n",
        "\n",
        "la stima di massima verosimiglianza $$\\hat{p_j}= \\frac{y_j}{n}$$\n",
        "\n"
      ],
      "metadata": {
        "id": "J5cJsnDlDF9-"
      }
    },
    {
      "cell_type": "markdown",
      "source": [],
      "metadata": {
        "id": "-gw1vagSDGA7"
      }
    },
    {
      "cell_type": "markdown",
      "source": [],
      "metadata": {
        "id": "pdNn72GUDGDQ"
      }
    },
    {
      "cell_type": "markdown",
      "source": [
        "## Regini di credibilita:\n",
        "\n",
        "La regione di credibilita rappresnta un insieme di valori della distribuzione a posteriori e forniisce una stima intervallare per il parametro in analogia con IC\n",
        "\n",
        "Un intervallo di copertura Bayesiana:\n",
        "- sia $\\theta$ il vettore dei parametri definito nello spazio parametrico $\\Theta$ sia $C \\subset \\Theta$ si chiama regione di credibilitaa o regione di confidenza Bayesiana l'area seguente definita dalla distribuzione a posteriori\n",
        "\n",
        "$$P(\\theta \\in C|x)\\geq 1-\\alpha$$\n",
        "\n",
        "$1-\\alpha$ il livello di credibilita\n",
        "\n",
        "- $\\alpha, C$ siano relativamente piccoli\n",
        "\n",
        "- laregione e' definia dai due estremi $[C_1,C_2]$ . Questo intervallo descrive le informazioni sulla posizoone del valore del parametro dopo aver osservato a seguito delle osservazioni X=x\n",
        "\n",
        "- si riferisce alla probabilita di copertura, che descrive la probabilita che l'intervallo copra il valore reale del parametro prima che i dati siano ossrvati\n",
        "\n",
        "- se la distribuzione a posteriori e' continua possonoesistere molti intervalli che soddisfano la condizione dell equazione $$P(\\theta \\in C|x)\\geq 1-\\alpha$$ pertanto si determina due tipologie di intervali che non sempre conicidono\n",
        "\n"
      ],
      "metadata": {
        "id": "fILsBGRKDGFj"
      }
    },
    {
      "cell_type": "markdown",
      "source": [
        "## 1. Intervalli centrali basati sui quantili della distribuzione a posteriori\n",
        "\n",
        "Gli estremi dell intervallo $c_1,c_2$ vengono determinati in modo che la densita a sinistra di $c_1$ sia pari a $\\alpha_1$ e a destra di $c_2$ sia pari a $\\alpha_2$ e con vincolo che $\\alpha_1+ \\alpha_2 = 1$.\n",
        "\n",
        "La coppia $(c_1,c_2)$ soddisfa: $$\\int_{c_1}^{c_2} p(\\theta|x)d\\theta= 1-\\alpha$$\n",
        "\n",
        "con $\\alpha$ definito secondo i valori 0.01, 0.05, 0.1\n",
        "\n",
        "La regione ha la proprieta di invarianza rispetto a transformazion del parametro\n",
        "\n",
        "La distribuzione a posteriori con densita maggiore concetrate permettono di ricavare intervalli centrali precisi rispetto quelle con piu alta variabililta.\n",
        "\n",
        "Se la distribuzione a posteriori e' molto assimetrica oppire strettamente crescente l'intervallo centrale non rappresenta una regone di credibilita adeguata in quanto alcuni valori del parametro potrebbero non essere inclusi nell'intervallo pur avendo una densita/prob maggiore di altri invece inclusi nell'intervallo\n",
        "\n",
        "A tale scopo si considerana:\n"
      ],
      "metadata": {
        "id": "KULaLSiVDGH5"
      }
    },
    {
      "cell_type": "markdown",
      "source": [
        "## 2. Intervallo con massima densita a posteriori\n",
        "\n",
        "Una regiona di credibiita o una regione Bayesiana di confidenza avente la massima densita a posteriori HPD, per $\\theta$ al livello $100(1-\\alpha)%$ e' tale che\n",
        "\n",
        "$$C=[\\theta \\in \\Theta: p(\\theta|x)\\geq k(\\alpha)]$$\n",
        "\n",
        "- $k(\\alpha)$ costante piu elevata tale che $P(\\theta \\in C|x)\\geq 1-\\alpha$\n",
        "\n",
        "si tratta di un intervallo tale che a parita di lunghezza $l=c_2-c_1$ ha massima densita a posteriori\n",
        "\n",
        "$$max \\int_{c_1}^{c_2} p(\\theta|x)d\\theta$$\n",
        "\n",
        "Dato che si tratta di un massimo vincolato , si procede con la funzione di Lagrange imponendo le condizioni. Se la distribuzione e' simetrica questo intervallo coincide con l'intervallo centrale\n",
        "\n",
        "Si noti che la regione di credibilita nell'esempio indicato nella La figura rappressenta una situazione in cui la densita a posteriori non ha unico massimo e pertanto la regione di credibilita e' detta dall'unione di due intervalli disgiuti\n",
        "\n",
        "Dato che si tratta di un massimo vincolato, si procede con la funzione"
      ],
      "metadata": {
        "id": "PyXDDBSW17yL"
      }
    },
    {
      "cell_type": "markdown",
      "source": [],
      "metadata": {
        "id": "Hcb4paNpDGKl"
      }
    },
    {
      "cell_type": "markdown",
      "source": [],
      "metadata": {
        "id": "nCnPHxBSDGNL"
      }
    },
    {
      "cell_type": "markdown",
      "source": [],
      "metadata": {
        "id": "UJzAyVPzDGPp"
      }
    },
    {
      "cell_type": "markdown",
      "source": [],
      "metadata": {
        "id": "awkh6WcXDGSL"
      }
    },
    {
      "cell_type": "markdown",
      "source": [],
      "metadata": {
        "id": "ZwKLtE3qDGUp"
      }
    },
    {
      "cell_type": "markdown",
      "source": [],
      "metadata": {
        "id": "t7IwCGGjDGXN"
      }
    },
    {
      "cell_type": "markdown",
      "source": [],
      "metadata": {
        "id": "SMZlvxHdDGZy"
      }
    },
    {
      "cell_type": "markdown",
      "source": [],
      "metadata": {
        "id": "FGZbBcx6DGcI"
      }
    },
    {
      "cell_type": "markdown",
      "source": [],
      "metadata": {
        "id": "J0s9iFQWDGeU"
      }
    },
    {
      "cell_type": "markdown",
      "source": [],
      "metadata": {
        "id": "uOW4WqqWDGgh"
      }
    }
  ]
}
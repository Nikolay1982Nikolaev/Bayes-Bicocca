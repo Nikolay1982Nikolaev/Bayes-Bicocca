{
  "nbformat": 4,
  "nbformat_minor": 0,
  "metadata": {
    "colab": {
      "provenance": [],
      "authorship_tag": "ABX9TyOCn5T03eSj++1B2zYzZA16",
      "include_colab_link": true
    },
    "kernelspec": {
      "name": "python3",
      "display_name": "Python 3"
    },
    "language_info": {
      "name": "python"
    }
  },
  "cells": [
    {
      "cell_type": "markdown",
      "metadata": {
        "id": "view-in-github",
        "colab_type": "text"
      },
      "source": [
        "<a href=\"https://colab.research.google.com/github/Nikolay1982Nikolaev/Bayes-Bicocca/blob/main/Inf_7.ipynb\" target=\"_parent\"><img src=\"https://colab.research.google.com/assets/colab-badge.svg\" alt=\"Open In Colab\"/></a>"
      ]
    },
    {
      "cell_type": "markdown",
      "source": [
        "# POINT ESTIMATION\n",
        "\n",
        "def: 7.1.1. A point estimator is any function $W(X_1...X_n)$ of a sample, that is, any statistic is point estimator.\n",
        "\n",
        "## Methods of Finding Estimators:\n",
        "\n",
        "7.2.1. Method of Moments:\n",
        "\n",
        "7.2.2. Maximum Likelihood Estimator:\n",
        "\n",
        "$$L(\\theta|x)= L(\\theta_1...\\theta_k|x_1...x_n)= \\prod_{i=1}^n f(x_i|\\theta_1...\\theta_k)$$\n",
        "\n",
        "Def: 7.2.4. For each sample point x, let $\\hat{\\theta}$ be a parameter value at which $L(\\theta|x)$ attains its maximum as a function of $\\theta$ , with x held fixed. A maximum likelihood estimato MLE of the parameter $\\theta$ based on a sample X is $\\hat{\\theta}(X)$.\n",
        "\n",
        "Ex 7.2.5. Normal Likelihood\n",
        "\n",
        "ex: 7.2.6.\n",
        "\n",
        "ex: 7.2.7. Bernoulli MLE\n",
        "\n",
        "ex. 7.2.8. Restricte range MLE\n",
        "\n",
        "ex. 7.2.9. Binomial MLE unknown number of trials\n",
        "\n",
        "\n",
        "Theorem: 7.2.10. Invariance property of MLEs: i $\\hat{\\theta}$ is MLE of $\\theta$ then for any function $\\tau(\\theta)$ the MLE of $\\tau(\\theta)$ is $\\tau(\\hat{\\theta})$\n",
        "\n",
        "Proof:\n",
        "\n",
        "\n",
        "Example: Normal MLEs, \\mu and \\sigma unknown\n",
        "\n"
      ],
      "metadata": {
        "id": "YVSr1L0wQkRP"
      }
    },
    {
      "cell_type": "markdown",
      "source": [
        "72.3. Bayes Estimators:\n",
        "\n",
        "ex: 7.2.14. Binomial Bayes estimation\n",
        "\n",
        "Def: 7.2.15: Let F' denote the class of pdfs or pmfs $f(x|\\theta)$ (indexed by $\\theta$). A class $\\prod$ of prior distribution is conjugate family for F' if the posterior distribution is in the class $\\prod$ for all $f\\in F'$, all priors in $\\prod$ and all $x \\in X'$\n",
        "\n",
        "ex: 7.2.16 Normal Bayes Estimators\n",
        "\n"
      ],
      "metadata": {
        "id": "3HEUIa7OQkT9"
      }
    },
    {
      "cell_type": "markdown",
      "source": [
        "7.2.4. The EM algorithm:\n",
        "\n",
        "ex: 7.2.17: Multiple Poisson rates\n",
        "\n",
        "Theorem: 7.2.20: Monotonic EM sequence. The sequence $[\\hat{\\theta}_{(r)}]$ defined by 7.2.29 satisfies:\n",
        "\n",
        "$$L(\\hat{\\theta}^{(r+1)}) \\geq L(\\hat{\\theta}^{(r)}|y)$$\n",
        "\n",
        "with equality holiding if and only if successive interations yield the same value of the maximized exxpected complete-data log likelihood, that is:\n",
        "\n",
        "$$E[log(L(\\hat{\\theta}^{(r+1)}|u, X))|\\hat{\\theta}^{(r)}, y]= E[log(L(\\hat{\\theta}^{(r)}|y, X)|\\hat{\\theta}^{(r)}, y)]$$"
      ],
      "metadata": {
        "id": "oSZqAR1BQkW5"
      }
    },
    {
      "cell_type": "markdown",
      "source": [
        "7.3. Methods  of Evaluating Estimators:\n",
        "\n",
        "7.3.1. Mean Squared Error:\n",
        "\n",
        "Definition: the MSE of an estimator W of a parameter $\\theta$ is the function of $\\theta$ defined by $E_{\\theta}[W-\\theta]^2$\n",
        "\n",
        "Def: 7.3.2. The bias of a point estimator W of a parameter $\\theta$ is the difference between the expected value of W and $\\theta$, that is $Bias_{\\theta}[W]= E_{\\theta}(W-\\theta)$. An estimator whose bias is identically (in $\\theta$) equal to 0 is called unbiased and satisfies $E_{\\theta}[W-\\theta]$ for all $\\theta$\n",
        "\n",
        "Ex: 7.3.3. Normal MSE\n",
        "\n",
        "Ex: 7.3.5. MSE of Binomial Bayes estimatror\n",
        "\n",
        "ex: 7.3.6. MSE of equivariant estimators\n",
        "\n"
      ],
      "metadata": {
        "id": "G9tcBHkqQkZt"
      }
    },
    {
      "cell_type": "markdown",
      "source": [
        "7.3.2. Best undiased Estimators:\n",
        "\n",
        "Def 7.3.7. An estimator W^* is a best unbiased estimator of $\\tau(\\theta)$ if it satisfies $E_{\\theta}[W^*]= \\tau(\\theta)$ for all $\\theta$ and, for any other estimator W with $E_{\\theta}[W]= \\tau(\\theta)$, we have $Var_{\\theta}[W^*]\\leq Var_{\\theta}[W]$ for all $\\theta$. W^* is also calle a uniform minimum variance unbiased estimato UMVUE of $\\tau(\\theta)$.\n",
        "\n",
        "Theorem: 7.3.9. Crammr-Rao Inequality: Let $X_1...X_n$ be a sample with pdf $f(x|\\theta)$ and let $W(X)= W(X_1...X_n)$ be anuy estimator satisfying\n",
        "\n",
        "$$\\frac{d}{d\\theta}E_{\\theta}[W](X)= .....$$\n",
        "\n",
        "and $$Var_{\\theta}[W(X)] < \\infty$$\n",
        "\n",
        "Then:\n",
        "\n",
        "....\n",
        "\n",
        "Corrolary: 7.3.10\n",
        "\n",
        "Lemma 7.3.11.\n",
        "\n",
        "Example: 7.3.13 Unbiased estimator for the scale uniform\n",
        "\n",
        "Ex 7.3.14: Norml variance bound\n",
        "\n"
      ],
      "metadata": {
        "id": "n2dNOlzmQkcN"
      }
    },
    {
      "cell_type": "markdown",
      "source": [
        "7.3.3. SUfficiency and Unbiassedness\n",
        "\n",
        "Theorem: 7.3.17: Rao - Blackwell: Let W be any unbiased estimator of $\\tau(\\theta)$ and let T be a sufficient statistic for $\\theta$. Define $\\phi(T)= E[W|T]$. Then\n",
        "$E_{\\theta} \\phi(T)= \\tau(\\theta)$ and $Var_{\\theta}\\phi(T)\\leq Var_{\\theta}(W)$ for all $\\theta$, that is, $\\phi(T)$ is a uniformly better unbiaed estimator of $\\tau(\\theta)$.\n",
        "\n",
        "Proof:\n",
        "\n",
        "ex: 7.3.18: COnditioning on an insufficient statistic\n",
        "\n",
        "Theorem: 7.3.19: If W is a best unbiased estimator of $\\tau(\\theta)$, then W is unique\n",
        "\n",
        "Proof:\n",
        "\n",
        "Theore,: 7.3.20: If $E_{\\theta}[W]= \\tau(\\theta)$ is the best unbiase estimator of $\\tau(\\theta)$ if and only if W is uncorrelated with all unbiased estimators of 0.\n",
        "\n",
        "Proof:\n",
        "\n",
        "Ex: 7.3.21: Unbiased estimators of zero\n",
        "\n",
        "Theorem: 7.3.23: Let T be a complete sufficient statistic for a parameter $\\theta$ and let $\\phi(T)$ be any estimator based only on T. Then $\\phi(T)$ is the unique best unbiased estimator of its expected value.\n",
        "\n",
        "Ex.7.3.24. Binomial best unbiase estimatin\n",
        "\n"
      ],
      "metadata": {
        "id": "pU6i_oj1Qke_"
      }
    },
    {
      "cell_type": "markdown",
      "source": [
        "7.3.4. Loss Function Optimality\n",
        "\n"
      ],
      "metadata": {
        "id": "sozOhul-Qkhc"
      }
    },
    {
      "cell_type": "markdown",
      "source": [],
      "metadata": {
        "id": "fCeVo3rRQkkE"
      }
    },
    {
      "cell_type": "markdown",
      "source": [],
      "metadata": {
        "id": "rQXczX78Qkme"
      }
    },
    {
      "cell_type": "markdown",
      "source": [],
      "metadata": {
        "id": "D6mQLB7XQko8"
      }
    },
    {
      "cell_type": "markdown",
      "source": [],
      "metadata": {
        "id": "KwfXFTdvQkrX"
      }
    },
    {
      "cell_type": "markdown",
      "source": [],
      "metadata": {
        "id": "Eg5tqcWKQktt"
      }
    },
    {
      "cell_type": "markdown",
      "source": [],
      "metadata": {
        "id": "NrDNhBtrQkwJ"
      }
    },
    {
      "cell_type": "markdown",
      "source": [],
      "metadata": {
        "id": "YRmpdk7HQkyo"
      }
    },
    {
      "cell_type": "markdown",
      "source": [],
      "metadata": {
        "id": "9bwpkE9UQk1D"
      }
    },
    {
      "cell_type": "markdown",
      "source": [],
      "metadata": {
        "id": "PcG0-dxaQk3f"
      }
    },
    {
      "cell_type": "markdown",
      "source": [],
      "metadata": {
        "id": "g0NoXY4dQk59"
      }
    },
    {
      "cell_type": "markdown",
      "source": [],
      "metadata": {
        "id": "1Jsvj4QmQk8D"
      }
    },
    {
      "cell_type": "markdown",
      "source": [],
      "metadata": {
        "id": "wh7B4ZW-Qk-f"
      }
    },
    {
      "cell_type": "markdown",
      "source": [],
      "metadata": {
        "id": "WGon1eo-QlA1"
      }
    }
  ]
}